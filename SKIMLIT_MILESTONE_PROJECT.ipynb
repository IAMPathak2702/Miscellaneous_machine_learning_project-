{
  "nbformat": 4,
  "nbformat_minor": 0,
  "metadata": {
    "colab": {
      "provenance": [],
      "gpuType": "T4",
      "mount_file_id": "1i2FYh9jH84ALPCtfYrWVJvH2kH-zsPVg",
      "authorship_tag": "ABX9TyN1s1mOH7jqFGIuvtMpz3/C",
      "include_colab_link": true
    },
    "kernelspec": {
      "name": "python3",
      "display_name": "Python 3"
    },
    "language_info": {
      "name": "python"
    },
    "accelerator": "GPU"
  },
  "cells": [
    {
      "cell_type": "markdown",
      "metadata": {
        "id": "view-in-github",
        "colab_type": "text"
      },
      "source": [
        "<a href=\"https://colab.research.google.com/github/IAMPathak2702/Miscellaneous_machine_learning_project-/blob/main/SKIMLIT_MILESTONE_PROJECT.ipynb\" target=\"_parent\"><img src=\"https://colab.research.google.com/assets/colab-badge.svg\" alt=\"Open In Colab\"/></a>"
      ]
    },
    {
      "cell_type": "markdown",
      "source": [
        "# **SkimLit Learn**"
      ],
      "metadata": {
        "id": "YNLlSdFyEKAf"
      }
    },
    {
      "cell_type": "markdown",
      "source": [
        "SkimLit is a project that aims to summarize biomedical research papers using natural language processing (NLP) techniques. The goal is to create concise summaries of scientific literature to assist researchers and practitioners in keeping up with the latest developments in their fields. SkimLit utilizes advanced NLP models to extract key information from research papers and generate summaries that capture the main points of the articles. This project can be valuable for quickly understanding the content of a large number of papers, facilitating literature review processes, and aiding in research exploration and discovery."
      ],
      "metadata": {
        "id": "3YkBLCSOol6S"
      }
    },
    {
      "cell_type": "code",
      "source": [
        "# Importing Libraries\n",
        "\n",
        "import numpy as np\n",
        "import pandas as pd\n",
        "import matplotlib.pyplot as plt\n",
        "import seaborn as sns\n",
        "sns.set()\n",
        "\n",
        "import tensorflow as tf\n",
        "from tensorflow import keras\n",
        "from keras import Sequential,layers\n",
        "\n",
        "from sklearn.model_selection import train_test_split\n",
        "\n",
        "import random\n",
        "import os\n"
      ],
      "metadata": {
        "id": "bIVCS_ETEJyA"
      },
      "execution_count": null,
      "outputs": []
    },
    {
      "cell_type": "code",
      "source": [
        "!git clone https://github.com/Franck-Dernoncourt/pubmed-rct.git\n",
        "!ls pubmed-rct"
      ],
      "metadata": {
        "id": "X_4qyDnLhN4s",
        "colab": {
          "base_uri": "https://localhost:8080/"
        },
        "outputId": "06ae55ce-d477-4daf-de3e-7705a0c71d8d"
      },
      "execution_count": null,
      "outputs": [
        {
          "output_type": "stream",
          "name": "stdout",
          "text": [
            "fatal: destination path 'pubmed-rct' already exists and is not an empty directory.\n",
            "PubMed_200k_RCT\n",
            "PubMed_200k_RCT_numbers_replaced_with_at_sign\n",
            "PubMed_20k_RCT\n",
            "PubMed_20k_RCT_numbers_replaced_with_at_sign\n",
            "README.md\n"
          ]
        }
      ]
    },
    {
      "cell_type": "code",
      "source": [
        "!ls /content/pubmed-rct/PubMed_20k_RCT_numbers_replaced_with_at_sign\n"
      ],
      "metadata": {
        "id": "rFy7rvUgRPIZ",
        "colab": {
          "base_uri": "https://localhost:8080/"
        },
        "outputId": "8e6fe191-afea-401d-b17e-6b0cdac3aaad"
      },
      "execution_count": null,
      "outputs": [
        {
          "output_type": "stream",
          "name": "stdout",
          "text": [
            "dev.txt  test.txt  train.txt\n"
          ]
        }
      ]
    },
    {
      "cell_type": "code",
      "source": [
        "data_dir = \"/content/pubmed-rct/PubMed_20k_RCT_numbers_replaced_with_at_sign/\"\n",
        "\n",
        "filenames = [data_dir + filenames for filenames in os.listdir(data_dir)]\n",
        "filenames"
      ],
      "metadata": {
        "id": "ytQ1XSKicaaM",
        "colab": {
          "base_uri": "https://localhost:8080/"
        },
        "outputId": "ed94020a-b7e7-4576-8926-73d321794107"
      },
      "execution_count": null,
      "outputs": [
        {
          "output_type": "execute_result",
          "data": {
            "text/plain": [
              "['/content/pubmed-rct/PubMed_20k_RCT_numbers_replaced_with_at_sign/test.txt',\n",
              " '/content/pubmed-rct/PubMed_20k_RCT_numbers_replaced_with_at_sign/dev.txt',\n",
              " '/content/pubmed-rct/PubMed_20k_RCT_numbers_replaced_with_at_sign/train.txt']"
            ]
          },
          "metadata": {},
          "execution_count": 114
        }
      ]
    },
    {
      "cell_type": "code",
      "source": [
        "def get_lines(filename):\n",
        "    \"\"\"\n",
        "    Reads the contents of a text file and returns a list of its lines.\n",
        "\n",
        "    Parameters:\n",
        "    filename (str): The name of the file to be read.\n",
        "\n",
        "    Returns:\n",
        "    list of str: A list containing each line of the file as a string.\n",
        "\n",
        "    Example:\n",
        "    >>> lines = get_lines(\"sample.txt\")\n",
        "    >>> print(lines)\n",
        "    ['Line 1\\n', 'Line 2\\n', 'Line 3\\n']\n",
        "    \"\"\"\n",
        "    # Open the file in 'r' mode\n",
        "    with open(data_dir + str(filename), 'r') as file:\n",
        "        file_list = []\n",
        "        # Iterate over each line in the file\n",
        "        for line in file:\n",
        "            file_list.append(str(line))\n",
        "    return file_list\n"
      ],
      "metadata": {
        "id": "WEQAbLyrRU-G"
      },
      "execution_count": null,
      "outputs": []
    },
    {
      "cell_type": "code",
      "source": [
        "train_lines = get_lines('train.txt')\n",
        "train_lines[:15]"
      ],
      "metadata": {
        "id": "MAh1yeOXhdPS",
        "colab": {
          "base_uri": "https://localhost:8080/"
        },
        "outputId": "9d533db5-c139-4929-9848-a12271c3a738"
      },
      "execution_count": null,
      "outputs": [
        {
          "output_type": "execute_result",
          "data": {
            "text/plain": [
              "['###24293578\\n',\n",
              " 'OBJECTIVE\\tTo investigate the efficacy of @ weeks of daily low-dose oral prednisolone in improving pain , mobility , and systemic low-grade inflammation in the short term and whether the effect would be sustained at @ weeks in older adults with moderate to severe knee osteoarthritis ( OA ) .\\n',\n",
              " 'METHODS\\tA total of @ patients with primary knee OA were randomized @:@ ; @ received @ mg/day of prednisolone and @ received placebo for @ weeks .\\n',\n",
              " 'METHODS\\tOutcome measures included pain reduction and improvement in function scores and systemic inflammation markers .\\n',\n",
              " 'METHODS\\tPain was assessed using the visual analog pain scale ( @-@ mm ) .\\n',\n",
              " 'METHODS\\tSecondary outcome measures included the Western Ontario and McMaster Universities Osteoarthritis Index scores , patient global assessment ( PGA ) of the severity of knee OA , and @-min walk distance ( @MWD ) .\\n',\n",
              " 'METHODS\\tSerum levels of interleukin @ ( IL-@ ) , IL-@ , tumor necrosis factor ( TNF ) - , and high-sensitivity C-reactive protein ( hsCRP ) were measured .\\n',\n",
              " 'RESULTS\\tThere was a clinically relevant reduction in the intervention group compared to the placebo group for knee pain , physical function , PGA , and @MWD at @ weeks .\\n',\n",
              " 'RESULTS\\tThe mean difference between treatment arms ( @ % CI ) was @ ( @-@ @ ) , p < @ ; @ ( @-@ @ ) , p < @ ; @ ( @-@ @ ) , p < @ ; and @ ( @-@ @ ) , p < @ , respectively .\\n',\n",
              " 'RESULTS\\tFurther , there was a clinically relevant reduction in the serum levels of IL-@ , IL-@ , TNF - , and hsCRP at @ weeks in the intervention group when compared to the placebo group .\\n',\n",
              " 'RESULTS\\tThese differences remained significant at @ weeks .\\n',\n",
              " 'RESULTS\\tThe Outcome Measures in Rheumatology Clinical Trials-Osteoarthritis Research Society International responder rate was @ % in the intervention group and @ % in the placebo group ( p < @ ) .\\n',\n",
              " 'CONCLUSIONS\\tLow-dose oral prednisolone had both a short-term and a longer sustained effect resulting in less knee pain , better physical function , and attenuation of systemic inflammation in older patients with knee OA ( ClinicalTrials.gov identifier NCT@ ) .\\n',\n",
              " '\\n',\n",
              " '###24854809\\n']"
            ]
          },
          "metadata": {},
          "execution_count": 116
        }
      ]
    },
    {
      "cell_type": "code",
      "source": [
        "def preprocess_text_with_line_numbers(filename):\n",
        "  \"\"\"Returns a list of dictionaries of abstract line data.\n",
        "\n",
        "  Takes in filename, reads its contents and sorts through each line,\n",
        "  extracting things like the target label, the text of the sentence,\n",
        "  how many sentences are in the current abstract and what sentence number\n",
        "  the target line is.\n",
        "\n",
        "  Args:\n",
        "      filename: a string of the target text file to read and extract line data\n",
        "      from.\n",
        "\n",
        "  Returns:\n",
        "      A list of dictionaries each containing a line from an abstract,\n",
        "      the lines label, the lines position in the abstract and the total number\n",
        "      of lines in the abstract where the line is from. For example:\n",
        "\n",
        "      [{\"target\": 'CONCLUSION',\n",
        "        \"text\": The study couldn't have gone better, turns out people are kinder than you think\",\n",
        "        \"line_number\": 8,\n",
        "        \"total_lines\": 8}]\n",
        "  \"\"\"\n",
        "  input_lines = get_lines(filename) # get all lines from filename\n",
        "  abstract_lines = \"\" # create an empty abstract\n",
        "  abstract_samples = [] # create an empty list of abstracts\n",
        "\n",
        "  # Loop through each line in target file\n",
        "  for line in input_lines:\n",
        "    if line.startswith(\"###\"): # check to see if line is an ID line\n",
        "      abstract_id = line\n",
        "      abstract_lines = \"\" # reset abstract string\n",
        "    elif line.isspace(): # check to see if line is a new line\n",
        "      abstract_line_split = abstract_lines.splitlines() # split abstract into separate lines\n",
        "\n",
        "      # Iterate through each line in abstract and count them at the same time\n",
        "      for abstract_line_number, abstract_line in enumerate(abstract_line_split):\n",
        "        line_data = {} # create empty dict to store data from line\n",
        "        target_text_split = abstract_line.split(\"\\t\") # split target label from text\n",
        "        line_data[\"target\"] = target_text_split[0] # get target label\n",
        "        line_data[\"text\"] = target_text_split[1].lower() # get target text and lower it\n",
        "        line_data[\"line_number\"] = abstract_line_number # what number line does the line appear in the abstract?\n",
        "        line_data[\"total_lines\"] = len(abstract_line_split) - 1 # how many total lines are in the abstract? (start from 0)\n",
        "        abstract_samples.append(line_data) # add line data to abstract samples list\n",
        "\n",
        "    else: # if the above conditions aren't fulfilled, the line contains a labelled sentence\n",
        "      abstract_lines += line\n",
        "\n",
        "  return abstract_samples"
      ],
      "metadata": {
        "id": "PoOBD14J-zwE"
      },
      "execution_count": null,
      "outputs": []
    },
    {
      "cell_type": "code",
      "source": [
        "%%time\n",
        "\n",
        "train_samples = preprocess_text_with_line_numbers('train.txt')\n",
        "val_samples = preprocess_text_with_line_numbers('dev.txt')\n",
        "test_samples = preprocess_text_with_line_numbers('test.txt')"
      ],
      "metadata": {
        "colab": {
          "base_uri": "https://localhost:8080/"
        },
        "id": "tkoNrD-Z80Q0",
        "outputId": "7e05465b-f7d7-4f82-bd3d-dd150f13ac45"
      },
      "execution_count": null,
      "outputs": [
        {
          "output_type": "stream",
          "name": "stdout",
          "text": [
            "CPU times: user 499 ms, sys: 68.2 ms, total: 567 ms\n",
            "Wall time: 597 ms\n"
          ]
        }
      ]
    },
    {
      "cell_type": "code",
      "source": [
        "train_df = pd.DataFrame(train_samples)\n",
        "val_df = pd.DataFrame(val_samples)\n",
        "test_df = pd.DataFrame(test_samples)"
      ],
      "metadata": {
        "id": "2Io3HZyVIHAd"
      },
      "execution_count": null,
      "outputs": []
    },
    {
      "cell_type": "code",
      "source": [
        "train_df['total_lines'].plot(kind='hist');"
      ],
      "metadata": {
        "colab": {
          "base_uri": "https://localhost:8080/",
          "height": 436
        },
        "id": "__yWZ8ngozq1",
        "outputId": "126e8b60-3659-4cc1-8ba6-e6e4cf14e9e5"
      },
      "execution_count": null,
      "outputs": [
        {
          "output_type": "display_data",
          "data": {
            "text/plain": [
              "<Figure size 640x480 with 1 Axes>"
            ],
            "image/png": "[encoded data removed]"
          },
          "metadata": {}
        }
      ]
    },
    {
      "cell_type": "code",
      "source": [
        "train_df.value_counts('target')"
      ],
      "metadata": {
        "colab": {
          "base_uri": "https://localhost:8080/"
        },
        "id": "pOW9zhCko7DW",
        "outputId": "a9946e62-f673-4482-b9fe-6e08d04c1c14"
      },
      "execution_count": null,
      "outputs": [
        {
          "output_type": "execute_result",
          "data": {
            "text/plain": [
              "target\n",
              "METHODS        59353\n",
              "RESULTS        57953\n",
              "CONCLUSIONS    27168\n",
              "BACKGROUND     21727\n",
              "OBJECTIVE      13839\n",
              "dtype: int64"
            ]
          },
          "metadata": {},
          "execution_count": 121
        }
      ]
    },
    {
      "cell_type": "markdown",
      "source": [
        "## Make Numerical Models(\"ML Model requires numerical labels\") using One hot encoder"
      ],
      "metadata": {
        "id": "8_UsALkMphc3"
      }
    },
    {
      "cell_type": "code",
      "source": [
        "labels = train_df['target'].unique().tolist()\n",
        "labels"
      ],
      "metadata": {
        "colab": {
          "base_uri": "https://localhost:8080/"
        },
        "id": "s3gGIi6hrEHg",
        "outputId": "522942a8-7fa9-40c8-bf7e-5560de87a138"
      },
      "execution_count": null,
      "outputs": [
        {
          "output_type": "execute_result",
          "data": {
            "text/plain": [
              "['OBJECTIVE', 'METHODS', 'RESULTS', 'CONCLUSIONS', 'BACKGROUND']"
            ]
          },
          "metadata": {},
          "execution_count": 122
        }
      ]
    },
    {
      "cell_type": "code",
      "source": [
        "# One hot encoding labels\n",
        "\n",
        "# Convert labels to categorical integers\n",
        "train_label_indices = tf.range(len(train_df['target'].to_numpy().reshape(-1,1)), dtype=tf.int32)\n",
        "val_label_indices = tf.range(len(val_df['target'].to_numpy().reshape(-1,1)), dtype=tf.int32)\n",
        "test_label_indices = tf.range(len(test_df['target'].to_numpy().reshape(-1,1)), dtype=tf.int32)\n",
        "\n",
        "# Use tf.one_hot to one-hot encode the labels\n",
        "train_one_hot_tf_labels = tf.one_hot(train_label_indices, depth=len(labels))\n",
        "val_one_hot_tf_labels = tf.one_hot(val_label_indices, depth=len(labels))\n",
        "test_one_hot_tf_labels = tf.one_hot(test_label_indices, depth=len(labels))\n"
      ],
      "metadata": {
        "id": "tlr3i9OppxZu"
      },
      "execution_count": null,
      "outputs": []
    },
    {
      "cell_type": "code",
      "source": [
        "from sklearn.preprocessing import OneHotEncoder\n",
        "one_hot_encoder = OneHotEncoder(sparse_output =False)\n",
        "train_one_hot_labels= one_hot_encoder.fit_transform(train_df['target'].to_numpy().reshape(-1,1))\n",
        "val_one_hot_labels= one_hot_encoder.fit_transform(val_df['target'].to_numpy().reshape(-1,1))\n",
        "test_one_hot_labels= one_hot_encoder.fit_transform(test_df['target'].to_numpy().reshape(-1,1))"
      ],
      "metadata": {
        "id": "bZXlfyChqb5m"
      },
      "execution_count": null,
      "outputs": []
    },
    {
      "cell_type": "code",
      "source": [
        "train_one_hot_labels == train_one_hot_tf_labels"
      ],
      "metadata": {
        "colab": {
          "base_uri": "https://localhost:8080/"
        },
        "id": "o1HPlT5Ct_i9",
        "outputId": "74006f69-f7d1-46a3-a275-8bec42c4ee05"
      },
      "execution_count": null,
      "outputs": [
        {
          "output_type": "execute_result",
          "data": {
            "text/plain": [
              "<tf.Tensor: shape=(180040, 5), dtype=bool, numpy=\n",
              "array([[False,  True,  True, False,  True],\n",
              "       [ True, False, False,  True,  True],\n",
              "       [ True,  True,  True,  True,  True],\n",
              "       ...,\n",
              "       [ True,  True,  True,  True, False],\n",
              "       [ True, False,  True,  True,  True],\n",
              "       [ True, False,  True,  True,  True]])>"
            ]
          },
          "metadata": {},
          "execution_count": 125
        }
      ]
    },
    {
      "cell_type": "code",
      "source": [
        "tf.constant(train_one_hot_labels)"
      ],
      "metadata": {
        "colab": {
          "base_uri": "https://localhost:8080/"
        },
        "id": "pCylsYVDuhwx",
        "outputId": "c369b0b8-867c-435c-e839-40cb3541099b"
      },
      "execution_count": null,
      "outputs": [
        {
          "output_type": "execute_result",
          "data": {
            "text/plain": [
              "<tf.Tensor: shape=(180040, 5), dtype=float64, numpy=\n",
              "array([[0., 0., 0., 1., 0.],\n",
              "       [0., 0., 1., 0., 0.],\n",
              "       [0., 0., 1., 0., 0.],\n",
              "       ...,\n",
              "       [0., 0., 0., 0., 1.],\n",
              "       [0., 1., 0., 0., 0.],\n",
              "       [0., 1., 0., 0., 0.]])>"
            ]
          },
          "metadata": {},
          "execution_count": 126
        }
      ]
    },
    {
      "cell_type": "code",
      "source": [
        "train_df['target'].to_numpy().reshape(-1,1)[:10]"
      ],
      "metadata": {
        "colab": {
          "base_uri": "https://localhost:8080/"
        },
        "id": "VV_y5pv9yBZG",
        "outputId": "b973fa68-ff47-4708-8461-3277fbe1fb54"
      },
      "execution_count": null,
      "outputs": [
        {
          "output_type": "execute_result",
          "data": {
            "text/plain": [
              "array([['OBJECTIVE'],\n",
              "       ['METHODS'],\n",
              "       ['METHODS'],\n",
              "       ['METHODS'],\n",
              "       ['METHODS'],\n",
              "       ['METHODS'],\n",
              "       ['RESULTS'],\n",
              "       ['RESULTS'],\n",
              "       ['RESULTS'],\n",
              "       ['RESULTS']], dtype=object)"
            ]
          },
          "metadata": {},
          "execution_count": 127
        }
      ]
    },
    {
      "cell_type": "markdown",
      "source": [
        "## ONe hot encoding by Pandas DataFrame"
      ],
      "metadata": {
        "id": "CWq-6wAL44mm"
      }
    },
    {
      "cell_type": "code",
      "source": [
        "pd_one_hot = pd.get_dummies((train_df['target'])).to_numpy()"
      ],
      "metadata": {
        "id": "z9djHdkg2qI2"
      },
      "execution_count": null,
      "outputs": []
    },
    {
      "cell_type": "code",
      "source": [
        "pd_one_hot_tensor = tf.constant(pd_one_hot)\n",
        "pd_one_hot_tensor"
      ],
      "metadata": {
        "colab": {
          "base_uri": "https://localhost:8080/"
        },
        "id": "8GIKIxJ12uUV",
        "outputId": "fa851f94-bab3-428f-ef51-ef1a4aab3003"
      },
      "execution_count": null,
      "outputs": [
        {
          "output_type": "execute_result",
          "data": {
            "text/plain": [
              "<tf.Tensor: shape=(180040, 5), dtype=uint8, numpy=\n",
              "array([[0, 0, 0, 1, 0],\n",
              "       [0, 0, 1, 0, 0],\n",
              "       [0, 0, 1, 0, 0],\n",
              "       ...,\n",
              "       [0, 0, 0, 0, 1],\n",
              "       [0, 1, 0, 0, 0],\n",
              "       [0, 1, 0, 0, 0]], dtype=uint8)>"
            ]
          },
          "metadata": {},
          "execution_count": 129
        }
      ]
    },
    {
      "cell_type": "code",
      "source": [],
      "metadata": {
        "id": "hLynIOr04P7H"
      },
      "execution_count": null,
      "outputs": []
    },
    {
      "cell_type": "markdown",
      "source": [
        "## Label Encode Labels"
      ],
      "metadata": {
        "id": "1NOLkMLayIzs"
      }
    },
    {
      "cell_type": "code",
      "source": [
        "from sklearn.preprocessing import LabelEncoder\n",
        "label_encoder=LabelEncoder()\n",
        "train_label_encoder = label_encoder.fit_transform(train_df['target'].to_numpy())\n",
        "val_label_encoder = label_encoder.fit_transform(val_df['target'].to_numpy())\n",
        "test_label_encoder = label_encoder.fit_transform(test_df['target'].to_numpy())"
      ],
      "metadata": {
        "id": "9oNO1OAR055u"
      },
      "execution_count": null,
      "outputs": []
    },
    {
      "cell_type": "code",
      "source": [
        "train_label_encoder.shape , train_label_encoder"
      ],
      "metadata": {
        "colab": {
          "base_uri": "https://localhost:8080/"
        },
        "id": "qPXPaSUb1bdS",
        "outputId": "879a1f2a-e341-4739-c6ec-5e493e139766"
      },
      "execution_count": null,
      "outputs": [
        {
          "output_type": "execute_result",
          "data": {
            "text/plain": [
              "((180040,), array([3, 2, 2, ..., 4, 1, 1]))"
            ]
          },
          "metadata": {},
          "execution_count": 131
        }
      ]
    },
    {
      "cell_type": "code",
      "source": [
        "# Get class names and number of classes from the labelEncoder instance\n",
        "\n",
        "num_classes = len(label_encoder.classes_)\n",
        "class_names = label_encoder.classes_\n",
        "\n",
        "num_classes,class_names"
      ],
      "metadata": {
        "colab": {
          "base_uri": "https://localhost:8080/"
        },
        "id": "HQQu29rj5IEz",
        "outputId": "5f5c3030-c6a4-4e72-f69d-51190796ea59"
      },
      "execution_count": null,
      "outputs": [
        {
          "output_type": "execute_result",
          "data": {
            "text/plain": [
              "(5,\n",
              " array(['BACKGROUND', 'CONCLUSIONS', 'METHODS', 'OBJECTIVE', 'RESULTS'],\n",
              "       dtype=object))"
            ]
          },
          "metadata": {},
          "execution_count": 132
        }
      ]
    },
    {
      "cell_type": "markdown",
      "source": [
        "## Experments(model) we are running\n",
        ">0. Naive Bayes with TF-IDF encoder (baseline)\n",
        "\n",
        ">1. Conv1D with token embedding\n",
        "\n",
        ">2. Tensrflow HUb pretrained Feature Extractor\n",
        "\n",
        ">3. Conv1D with Character Embedding\n",
        "\n",
        ">4. Pretrained token Embedding (same as model_2) + Character Embedding(same as model_3)\n",
        "\n",
        ">5. Pretrained token Embedding + Character Embedding + positional embeddings"
      ],
      "metadata": {
        "id": "XtZD4f6c5epO"
      }
    },
    {
      "cell_type": "markdown",
      "source": [
        "## Model_0 - Naive Bayes with TF-IDF encoder (a baseline model)"
      ],
      "metadata": {
        "id": "2xFunarI7Ms6"
      }
    },
    {
      "cell_type": "code",
      "source": [
        "# Convert abstract text lines into lists\n",
        "train_sentences = train_df[\"text\"].tolist()\n",
        "val_sentences = val_df[\"text\"].tolist()\n",
        "test_sentences = test_df[\"text\"].tolist()\n",
        "len(train_sentences), len(val_sentences), len(test_sentences)"
      ],
      "metadata": {
        "colab": {
          "base_uri": "https://localhost:8080/"
        },
        "id": "MDkQ6XP-_iOm",
        "outputId": "ce6b3639-68f4-43fd-d6aa-8ddd72bee5b9"
      },
      "execution_count": null,
      "outputs": [
        {
          "output_type": "execute_result",
          "data": {
            "text/plain": [
              "(180040, 30212, 30135)"
            ]
          },
          "metadata": {},
          "execution_count": 133
        }
      ]
    },
    {
      "cell_type": "code",
      "source": [
        "from sklearn.feature_extraction.text import TfidfVectorizer\n",
        "from sklearn.naive_bayes import MultinomialNB\n",
        "from sklearn.pipeline import Pipeline\n",
        "\n",
        "# Create a pipeline\n",
        "model_0 = Pipeline([\n",
        "  (\"tf-idf\", TfidfVectorizer()),\n",
        "  (\"clf\", MultinomialNB())\n",
        "])\n",
        "\n",
        "# Fit the pipeline to the training data\n",
        "model_0.fit(X=train_sentences,\n",
        "            y=train_label_encoder)"
      ],
      "metadata": {
        "colab": {
          "base_uri": "https://localhost:8080/",
          "height": 125
        },
        "id": "CYsXt60G65_E",
        "outputId": "d900679d-599b-41f0-aa9b-665b13702707"
      },
      "execution_count": null,
      "outputs": [
        {
          "output_type": "execute_result",
          "data": {
            "text/plain": [
              "Pipeline(steps=[('tf-idf', TfidfVectorizer()), ('clf', MultinomialNB())])"
            ],
            "text/html": [
              "<style>#sk-container-id-2 {color: black;background-color: white;}#sk-container-id-2 pre{padding: 0;}#sk-container-id-2 div.sk-toggleable {background-color: white;}#sk-container-id-2 label.sk-toggleable__label {cursor: pointer;display: block;width: 100%;margin-bottom: 0;padding: 0.3em;box-sizing: border-box;text-align: center;}#sk-container-id-2 label.sk-toggleable__label-arrow:before {content: \"▸\";float: left;margin-right: 0.25em;color: #696969;}#sk-container-id-2 label.sk-toggleable__label-arrow:hover:before {color: black;}#sk-container-id-2 div.sk-estimator:hover label.sk-toggleable__label-arrow:before {color: black;}#sk-container-id-2 div.sk-toggleable__content {max-height: 0;max-width: 0;overflow: hidden;text-align: left;background-color: #f0f8ff;}#sk-container-id-2 div.sk-toggleable__content pre {margin: 0.2em;color: black;border-radius: 0.25em;background-color: #f0f8ff;}#sk-container-id-2 input.sk-toggleable__control:checked~div.sk-toggleable__content {max-height: 200px;max-width: 100%;overflow: auto;}#sk-container-id-2 input.sk-toggleable__control:checked~label.sk-toggleable__label-arrow:before {content: \"▾\";}#sk-container-id-2 div.sk-estimator input.sk-toggleable__control:checked~label.sk-toggleable__label {background-color: #d4ebff;}#sk-container-id-2 div.sk-label input.sk-toggleable__control:checked~label.sk-toggleable__label {background-color: #d4ebff;}#sk-container-id-2 input.sk-hidden--visually {border: 0;clip: rect(1px 1px 1px 1px);clip: rect(1px, 1px, 1px, 1px);height: 1px;margin: -1px;overflow: hidden;padding: 0;position: absolute;width: 1px;}#sk-container-id-2 div.sk-estimator {font-family: monospace;background-color: #f0f8ff;border: 1px dotted black;border-radius: 0.25em;box-sizing: border-box;margin-bottom: 0.5em;}#sk-container-id-2 div.sk-estimator:hover {background-color: #d4ebff;}#sk-container-id-2 div.sk-parallel-item::after {content: \"\";width: 100%;border-bottom: 1px solid gray;flex-grow: 1;}#sk-container-id-2 div.sk-label:hover label.sk-toggleable__label {background-color: #d4ebff;}#sk-container-id-2 div.sk-serial::before {content: \"\";position: absolute;border-left: 1px solid gray;box-sizing: border-box;top: 0;bottom: 0;left: 50%;z-index: 0;}#sk-container-id-2 div.sk-serial {display: flex;flex-direction: column;align-items: center;background-color: white;padding-right: 0.2em;padding-left: 0.2em;position: relative;}#sk-container-id-2 div.sk-item {position: relative;z-index: 1;}#sk-container-id-2 div.sk-parallel {display: flex;align-items: stretch;justify-content: center;background-color: white;position: relative;}#sk-container-id-2 div.sk-item::before, #sk-container-id-2 div.sk-parallel-item::before {content: \"\";position: absolute;border-left: 1px solid gray;box-sizing: border-box;top: 0;bottom: 0;left: 50%;z-index: -1;}#sk-container-id-2 div.sk-parallel-item {display: flex;flex-direction: column;z-index: 1;position: relative;background-color: white;}#sk-container-id-2 div.sk-parallel-item:first-child::after {align-self: flex-end;width: 50%;}#sk-container-id-2 div.sk-parallel-item:last-child::after {align-self: flex-start;width: 50%;}#sk-container-id-2 div.sk-parallel-item:only-child::after {width: 0;}#sk-container-id-2 div.sk-dashed-wrapped {border: 1px dashed gray;margin: 0 0.4em 0.5em 0.4em;box-sizing: border-box;padding-bottom: 0.4em;background-color: white;}#sk-container-id-2 div.sk-label label {font-family: monospace;font-weight: bold;display: inline-block;line-height: 1.2em;}#sk-container-id-2 div.sk-label-container {text-align: center;}#sk-container-id-2 div.sk-container {/* jupyter's `normalize.less` sets `[hidden] { display: none; }` but bootstrap.min.css set `[hidden] { display: none !important; }` so we also need the `!important` here to be able to override the default hidden behavior on the sphinx rendered scikit-learn.org. See: https://github.com/scikit-learn/scikit-learn/issues/21755 */display: inline-block !important;position: relative;}#sk-container-id-2 div.sk-text-repr-fallback {display: none;}</style><div id=\"sk-container-id-2\" class=\"sk-top-container\"><div class=\"sk-text-repr-fallback\"><pre>Pipeline(steps=[(&#x27;tf-idf&#x27;, TfidfVectorizer()), (&#x27;clf&#x27;, MultinomialNB())])</pre><b>In a Jupyter environment, please rerun this cell to show the HTML representation or trust the notebook. <br />On GitHub, the HTML representation is unable to render, please try loading this page with nbviewer.org.</b></div><div class=\"sk-container\" hidden><div class=\"sk-item sk-dashed-wrapped\"><div class=\"sk-label-container\"><div class=\"sk-label sk-toggleable\"><input class=\"sk-toggleable__control sk-hidden--visually\" id=\"sk-estimator-id-4\" type=\"checkbox\" ><label for=\"sk-estimator-id-4\" class=\"sk-toggleable__label sk-toggleable__label-arrow\">Pipeline</label><div class=\"sk-toggleable__content\"><pre>Pipeline(steps=[(&#x27;tf-idf&#x27;, TfidfVectorizer()), (&#x27;clf&#x27;, MultinomialNB())])</pre></div></div></div><div class=\"sk-serial\"><div class=\"sk-item\"><div class=\"sk-estimator sk-toggleable\"><input class=\"sk-toggleable__control sk-hidden--visually\" id=\"sk-estimator-id-5\" type=\"checkbox\" ><label for=\"sk-estimator-id-5\" class=\"sk-toggleable__label sk-toggleable__label-arrow\">TfidfVectorizer</label><div class=\"sk-toggleable__content\"><pre>TfidfVectorizer()</pre></div></div></div><div class=\"sk-item\"><div class=\"sk-estimator sk-toggleable\"><input class=\"sk-toggleable__control sk-hidden--visually\" id=\"sk-estimator-id-6\" type=\"checkbox\" ><label for=\"sk-estimator-id-6\" class=\"sk-toggleable__label sk-toggleable__label-arrow\">MultinomialNB</label><div class=\"sk-toggleable__content\"><pre>MultinomialNB()</pre></div></div></div></div></div></div></div>"
            ]
          },
          "metadata": {},
          "execution_count": 134
        }
      ]
    },
    {
      "cell_type": "code",
      "source": [
        "model_0.score(X=val_sentences,\n",
        "              y=val_label_encoder)"
      ],
      "metadata": {
        "colab": {
          "base_uri": "https://localhost:8080/"
        },
        "id": "cVjCxJiU_qnd",
        "outputId": "65910b35-df1b-4041-d13c-e7e79a8cd1e5"
      },
      "execution_count": null,
      "outputs": [
        {
          "output_type": "execute_result",
          "data": {
            "text/plain": [
              "0.7218323844829869"
            ]
          },
          "metadata": {},
          "execution_count": 135
        }
      ]
    },
    {
      "cell_type": "code",
      "source": [
        "# Making predictions using our base line model\n",
        "baseline_preds = model_0.predict(val_sentences)\n",
        "baseline_preds"
      ],
      "metadata": {
        "colab": {
          "base_uri": "https://localhost:8080/"
        },
        "id": "NqHSAwI0_5nG",
        "outputId": "1f38d9b1-2f44-4303-e61e-78479741239e"
      },
      "execution_count": null,
      "outputs": [
        {
          "output_type": "execute_result",
          "data": {
            "text/plain": [
              "array([4, 1, 3, ..., 4, 4, 1])"
            ]
          },
          "metadata": {},
          "execution_count": 136
        }
      ]
    },
    {
      "cell_type": "code",
      "source": [
        "from helper_functions import calculate_results\n",
        "\n",
        "model_0_results = calculate_results(val_label_encoder,baseline_preds)\n",
        "model_0_results"
      ],
      "metadata": {
        "colab": {
          "base_uri": "https://localhost:8080/"
        },
        "id": "eMcHOnr2F8Rg",
        "outputId": "3a82754e-8da9-428e-a26d-6fc63466c7b0"
      },
      "execution_count": null,
      "outputs": [
        {
          "output_type": "execute_result",
          "data": {
            "text/plain": [
              "{'accuracy': 72.1832384482987,\n",
              " 'precision': 0.7186466952323352,\n",
              " 'recall': 0.7218323844829869,\n",
              " 'f1': 0.6989250353450294}"
            ]
          },
          "metadata": {},
          "execution_count": 137
        }
      ]
    },
    {
      "cell_type": "markdown",
      "source": [
        "### Preparing our data(the text) for deep learning models (getting one with the data)"
      ],
      "metadata": {
        "id": "NAC6JbvfGdxJ"
      }
    },
    {
      "cell_type": "code",
      "source": [
        "sen_words_len = [len(sentences.split()) for sentences in train_sentences]\n",
        "avg_sen_len = np.round(np.mean(sen_words_len))\n",
        "avg_sen_len"
      ],
      "metadata": {
        "colab": {
          "base_uri": "https://localhost:8080/"
        },
        "id": "AAHWqGnC237L",
        "outputId": "1401e616-798b-480c-a833-ba75e96b00ee"
      },
      "execution_count": null,
      "outputs": [
        {
          "output_type": "execute_result",
          "data": {
            "text/plain": [
              "26.0"
            ]
          },
          "metadata": {},
          "execution_count": 138
        }
      ]
    },
    {
      "cell_type": "code",
      "source": [
        "# what's the distribution look like?\n",
        "plt.hist(sen_words_len,bins = 20);"
      ],
      "metadata": {
        "colab": {
          "base_uri": "https://localhost:8080/",
          "height": 434
        },
        "id": "t2TweGm_3YEJ",
        "outputId": "0c2a534f-65f6-4376-9f1c-91d87bfd5577"
      },
      "execution_count": null,
      "outputs": [
        {
          "output_type": "display_data",
          "data": {
            "text/plain": [
              "<Figure size 640x480 with 1 Axes>"
            ],
            "image/png": "[encoded data removed]"
          },
          "metadata": {}
        }
      ]
    },
    {
      "cell_type": "code",
      "source": [
        "\n",
        "# How long of a sentence length covers 95% of examples?\n",
        "np.percentile(sen_words_len, 95)"
      ],
      "metadata": {
        "colab": {
          "base_uri": "https://localhost:8080/"
        },
        "id": "3QZBPmm44A2J",
        "outputId": "01189290-82c3-467e-8867-534dea539252"
      },
      "execution_count": null,
      "outputs": [
        {
          "output_type": "execute_result",
          "data": {
            "text/plain": [
              "55.0"
            ]
          },
          "metadata": {},
          "execution_count": 140
        }
      ]
    },
    {
      "cell_type": "code",
      "source": [
        "#Maximum sequence length of training set?\n",
        "max(sen_words_len)"
      ],
      "metadata": {
        "colab": {
          "base_uri": "https://localhost:8080/"
        },
        "id": "l5EyH48R4WEc",
        "outputId": "27097f0e-e7df-4652-dd10-e65f20dbd939"
      },
      "execution_count": null,
      "outputs": [
        {
          "output_type": "execute_result",
          "data": {
            "text/plain": [
              "296"
            ]
          },
          "metadata": {},
          "execution_count": 141
        }
      ]
    },
    {
      "cell_type": "code",
      "source": [
        "total_words = np.unique(sen_words_len)\n",
        "len(total_words)"
      ],
      "metadata": {
        "colab": {
          "base_uri": "https://localhost:8080/"
        },
        "id": "7Az6IYCd43bt",
        "outputId": "d383ec76-27e0-417f-d834-50bb4bfbe309"
      },
      "execution_count": null,
      "outputs": [
        {
          "output_type": "execute_result",
          "data": {
            "text/plain": [
              "193"
            ]
          },
          "metadata": {},
          "execution_count": 142
        }
      ]
    },
    {
      "cell_type": "code",
      "source": [
        "# How many unique words are in colab ? # taken from the papers\n",
        "max_tokens = 68000"
      ],
      "metadata": {
        "id": "d2f985hT7PhX"
      },
      "execution_count": null,
      "outputs": []
    },
    {
      "cell_type": "markdown",
      "source": [
        "### Creating a Text Vectorizing layer"
      ],
      "metadata": {
        "id": "XR6guokc7PTk"
      }
    },
    {
      "cell_type": "code",
      "source": [
        "# Intitaing out text_vectorizer layers\n",
        "text_vectorizer = layers.TextVectorization(max_tokens=max_tokens, #number words in vocabulary\n",
        "                                           output_sequence_length=55,# desired output length\n",
        "                                           )\n"
      ],
      "metadata": {
        "id": "Jp7RHaLu49jY"
      },
      "execution_count": null,
      "outputs": []
    },
    {
      "cell_type": "code",
      "source": [
        "# Adapting the text vecotrizer layers for Train_sentences.\n",
        "\n",
        "text_vectorizer.adapt(train_sentences)"
      ],
      "metadata": {
        "id": "qYeVS9qB8Xm0"
      },
      "execution_count": null,
      "outputs": []
    },
    {
      "cell_type": "code",
      "source": [
        "# Test out text vectorizer on random sentences\n",
        "\n",
        "target_sentences = random.choice(train_sentences)\n",
        "print(f'''\n",
        "Text----------->: {target_sentences},\\n\n",
        "length of Text  : {len(target_sentences.split())},\\n\n",
        "Vecotrized_text : {text_vectorizer([target_sentences])}\n",
        "\n",
        "\n",
        "      ''')"
      ],
      "metadata": {
        "colab": {
          "base_uri": "https://localhost:8080/"
        },
        "id": "D5SYdhPZ81sd",
        "outputId": "25c96b3a-7fae-40cb-a622-e5dd36583de8"
      },
      "execution_count": null,
      "outputs": [
        {
          "output_type": "stream",
          "name": "stdout",
          "text": [
            "\n",
            "Text----------->: sws was positively correlated with percent negative urines ( p = @ ) and participants with increased sws had greater percent negative urines ( p = @ ) and maximum consecutive number of days abstinent ( p = @ ) .,\n",
            "\n",
            "length of Text  : 41,\n",
            "\n",
            "Vecotrized_text : [[10947    10  1520   752     7   795   469 15293    14     3    60     7\n",
            "     96 10947    55   182   795   469 15293    14     3   635   753   154\n",
            "      4    84  5601    14     0     0     0     0     0     0     0     0\n",
            "      0     0     0     0     0     0     0     0     0     0     0     0\n",
            "      0     0     0     0     0     0     0]]\n",
            "\n",
            "\n",
            "      \n"
          ]
        }
      ]
    },
    {
      "cell_type": "code",
      "source": [
        "rct_20k_text_vocab = text_vectorizer.get_vocabulary()\n",
        "print(f\"\"\"\n",
        "Total words : {len(rct_20k_text_vocab)},\n",
        "Top Unique words : {rct_20k_text_vocab[:5]}\n",
        "Least unique words : {rct_20k_text_vocab[-5:]}\n",
        "\n",
        "\"\"\")"
      ],
      "metadata": {
        "colab": {
          "base_uri": "https://localhost:8080/"
        },
        "id": "lfH2X1S09p59",
        "outputId": "10415c29-c238-4a5e-ada1-9f36841ea86e"
      },
      "execution_count": null,
      "outputs": [
        {
          "output_type": "stream",
          "name": "stdout",
          "text": [
            "\n",
            "Total words : 64841,\n",
            "Top Unique words : ['', '[UNK]', 'the', 'and', 'of']\n",
            "Least unique words : ['aainduced', 'aaigroup', 'aachener', 'aachen', 'aaacp']\n",
            "\n",
            "\n"
          ]
        }
      ]
    },
    {
      "cell_type": "code",
      "source": [
        "text_vectorizer.get_config()"
      ],
      "metadata": {
        "colab": {
          "base_uri": "https://localhost:8080/"
        },
        "id": "dXdKASaP_ai4",
        "outputId": "250b9d6c-667d-44d7-8966-54de493d0dfd"
      },
      "execution_count": null,
      "outputs": [
        {
          "output_type": "execute_result",
          "data": {
            "text/plain": [
              "{'name': 'text_vectorization_1',\n",
              " 'trainable': True,\n",
              " 'dtype': 'string',\n",
              " 'batch_input_shape': (None,),\n",
              " 'max_tokens': 68000,\n",
              " 'standardize': 'lower_and_strip_punctuation',\n",
              " 'split': 'whitespace',\n",
              " 'ngrams': None,\n",
              " 'output_mode': 'int',\n",
              " 'output_sequence_length': 55,\n",
              " 'pad_to_max_tokens': False,\n",
              " 'sparse': False,\n",
              " 'ragged': False,\n",
              " 'vocabulary': None,\n",
              " 'idf_weights': None,\n",
              " 'encoding': 'utf-8',\n",
              " 'vocabulary_size': 64841}"
            ]
          },
          "metadata": {},
          "execution_count": 148
        }
      ]
    },
    {
      "cell_type": "markdown",
      "source": [
        "### Creating Embedding layer"
      ],
      "metadata": {
        "id": "RTi2CV3dAG_J"
      }
    },
    {
      "cell_type": "code",
      "source": [
        "embedding  = layers.Embedding(input_dim= len(rct_20k_text_vocab),\n",
        "                              output_dim=128,\n",
        "                              mask_zero = True,\n",
        "                              name = 'token_embedding')"
      ],
      "metadata": {
        "id": "Q5IYksMvAXEd"
      },
      "execution_count": null,
      "outputs": []
    },
    {
      "cell_type": "code",
      "source": [
        "vectorized_sentence = text_vectorizer([target_sentences])\n",
        "embedded_sentence = embedding(vectorized_sentence)\n",
        "\n",
        "\n",
        "print(f\"\"\"\n",
        "Target Sentence : {target_sentences},\\n\n",
        "Vectorized sentence : {vectorized_sentence},\\n\n",
        "Embedded Sentence : {embedded_sentence}\"\"\")"
      ],
      "metadata": {
        "colab": {
          "base_uri": "https://localhost:8080/"
        },
        "id": "CGdQa1V9Cygn",
        "outputId": "fdcf1155-e14a-4515-f814-cf4a227c78a1"
      },
      "execution_count": null,
      "outputs": [
        {
          "output_type": "stream",
          "name": "stdout",
          "text": [
            "\n",
            "Target Sentence : sws was positively correlated with percent negative urines ( p = @ ) and participants with increased sws had greater percent negative urines ( p = @ ) and maximum consecutive number of days abstinent ( p = @ ) .,\n",
            "\n",
            "Vectorized sentence : [[10947    10  1520   752     7   795   469 15293    14     3    60     7\n",
            "     96 10947    55   182   795   469 15293    14     3   635   753   154\n",
            "      4    84  5601    14     0     0     0     0     0     0     0     0\n",
            "      0     0     0     0     0     0     0     0     0     0     0     0\n",
            "      0     0     0     0     0     0     0]],\n",
            "\n",
            "Embedded Sentence : [[[ 0.00474066  0.01921901 -0.00562391 ...  0.01838512  0.02319305\n",
            "   -0.03908777]\n",
            "  [-0.00898824  0.03428615 -0.04044648 ... -0.04675451  0.03280303\n",
            "    0.01802799]\n",
            "  [ 0.03338009 -0.00522256 -0.02825867 ... -0.04514095  0.04748297\n",
            "   -0.04399389]\n",
            "  ...\n",
            "  [-0.04041251 -0.02832712 -0.04872869 ...  0.03361876  0.01011562\n",
            "   -0.01469069]\n",
            "  [-0.04041251 -0.02832712 -0.04872869 ...  0.03361876  0.01011562\n",
            "   -0.01469069]\n",
            "  [-0.04041251 -0.02832712 -0.04872869 ...  0.03361876  0.01011562\n",
            "   -0.01469069]]]\n"
          ]
        }
      ]
    },
    {
      "cell_type": "markdown",
      "source": [
        "## Tensorflow API `tf.data.API`  Creating Datasets ~(making sure data load as fast as possible)\n"
      ],
      "metadata": {
        "id": "GpnxwSvvDvGp"
      }
    },
    {
      "cell_type": "code",
      "source": [
        "train_datasets = tf.data.Dataset.from_tensor_slices((train_sentences,train_one_hot_labels))\n",
        "val_datasets = tf.data.Dataset.from_tensor_slices((val_sentences,val_one_hot_labels))\n",
        "test_datasets = tf.data.Dataset.from_tensor_slices((test_sentences,test_one_hot_labels))"
      ],
      "metadata": {
        "id": "OJYS0ie9HBAR"
      },
      "execution_count": null,
      "outputs": []
    },
    {
      "cell_type": "markdown",
      "source": [
        "## Prefecthing and multithreding"
      ],
      "metadata": {
        "id": "YrzNvjzIlDuk"
      }
    },
    {
      "cell_type": "code",
      "source": [
        "train_datasets = train_datasets.batch(32).prefetch(tf.data.AUTOTUNE)\n",
        "val_datasets = val_datasets.batch(32).prefetch(tf.data.AUTOTUNE)\n",
        "test_datasets = test_datasets.batch(32).prefetch(tf.data.AUTOTUNE)\n"
      ],
      "metadata": {
        "id": "kuKVYv1_lJ5r"
      },
      "execution_count": null,
      "outputs": []
    },
    {
      "cell_type": "markdown",
      "source": [
        "## Model_1 ~ Conv1D with token embedding"
      ],
      "metadata": {
        "id": "qzGfYYRE2Gyq"
      }
    },
    {
      "cell_type": "code",
      "source": [
        "num_classes"
      ],
      "metadata": {
        "colab": {
          "base_uri": "https://localhost:8080/"
        },
        "id": "h5UTbAWfnuzT",
        "outputId": "58e7c978-6107-4c23-f7b7-f019393c466e"
      },
      "execution_count": null,
      "outputs": [
        {
          "output_type": "execute_result",
          "data": {
            "text/plain": [
              "5"
            ]
          },
          "metadata": {},
          "execution_count": 153
        }
      ]
    },
    {
      "cell_type": "code",
      "source": [
        "# Create 1D convolutional model to process sequences\n",
        "inputs = layers.Input(shape=(1,), dtype=tf.string)\n",
        "text_vectors = text_vectorizer(inputs) # vectorize text inputs\n",
        "token_embeddings = embedding(text_vectors) # create embedding\n",
        "x = layers.Conv1D(64, kernel_size=5, padding=\"same\", activation=\"relu\")(token_embeddings)\n",
        "x = layers.GlobalAveragePooling1D()(x) # condense the output of our feature vector\n",
        "outputs = layers.Dense(num_classes, activation=\"softmax\")(x)\n",
        "model_1 = tf.keras.Model(inputs, outputs)\n",
        "\n",
        "# Compile\n",
        "model_1.compile(loss=\"categorical_crossentropy\", # if your labels are integer form (not one hot) use sparse_categorical_crossentropy\n",
        "                optimizer=tf.keras.optimizers.Adam(),\n",
        "                metrics=[\"accuracy\"])"
      ],
      "metadata": {
        "id": "fy9pv_yxlp6E"
      },
      "execution_count": null,
      "outputs": []
    },
    {
      "cell_type": "code",
      "source": [
        "\n",
        "# Fit the model\n",
        "model_1_history = model_1.fit(train_datasets,\n",
        "                              steps_per_epoch=int(0.1 * len(train_datasets)), # only fit on 10% of batches for faster training time\n",
        "                              epochs=3,\n",
        "                              validation_data=val_datasets,\n",
        "                              validation_steps=int(0.1 * len(val_datasets))) # only validate on 10% of batches"
      ],
      "metadata": {
        "colab": {
          "base_uri": "https://localhost:8080/"
        },
        "id": "AqG0Mvjvoar-",
        "outputId": "a92895ea-3811-4520-acc7-09170a4db66a"
      },
      "execution_count": null,
      "outputs": [
        {
          "output_type": "stream",
          "name": "stdout",
          "text": [
            "Epoch 1/3\n",
            "562/562 [==============================] - 28s 48ms/step - loss: 0.9102 - accuracy: 0.6399 - val_loss: 0.6822 - val_accuracy: 0.7400\n",
            "Epoch 2/3\n",
            "562/562 [==============================] - 8s 15ms/step - loss: 0.6592 - accuracy: 0.7531 - val_loss: 0.6343 - val_accuracy: 0.7693\n",
            "Epoch 3/3\n",
            "562/562 [==============================] - 6s 10ms/step - loss: 0.6202 - accuracy: 0.7732 - val_loss: 0.5973 - val_accuracy: 0.7842\n"
          ]
        }
      ]
    },
    {
      "cell_type": "code",
      "source": [
        "model_1.evaluate(val_datasets)"
      ],
      "metadata": {
        "colab": {
          "base_uri": "https://localhost:8080/"
        },
        "id": "PXYJjRXfpe2M",
        "outputId": "577ed866-5c26-4f18-e189-7a26f2a127eb"
      },
      "execution_count": null,
      "outputs": [
        {
          "output_type": "stream",
          "name": "stdout",
          "text": [
            "945/945 [==============================] - 3s 3ms/step - loss: 0.6004 - accuracy: 0.7840\n"
          ]
        },
        {
          "output_type": "execute_result",
          "data": {
            "text/plain": [
              "[0.6004003882408142, 0.7840262055397034]"
            ]
          },
          "metadata": {},
          "execution_count": 156
        }
      ]
    },
    {
      "cell_type": "code",
      "source": [
        "model_1_preds = model_1.predict(val_datasets)"
      ],
      "metadata": {
        "colab": {
          "base_uri": "https://localhost:8080/"
        },
        "id": "w9JSVa73sghu",
        "outputId": "7b0cc9f3-9096-4e54-9302-32a9bbdfc117"
      },
      "execution_count": null,
      "outputs": [
        {
          "output_type": "stream",
          "name": "stdout",
          "text": [
            "945/945 [==============================] - 3s 3ms/step\n"
          ]
        }
      ]
    },
    {
      "cell_type": "code",
      "source": [
        "model_1_preds.shape, model_1_preds"
      ],
      "metadata": {
        "colab": {
          "base_uri": "https://localhost:8080/"
        },
        "id": "p2438n-AszTO",
        "outputId": "7c705ff8-8d59-43d9-a378-d18110de7975"
      },
      "execution_count": null,
      "outputs": [
        {
          "output_type": "execute_result",
          "data": {
            "text/plain": [
              "((30212, 5),\n",
              " array([[4.06177044e-01, 2.11196035e-01, 9.47872549e-02, 2.61480242e-01,\n",
              "         2.63593756e-02],\n",
              "        [4.62062925e-01, 2.75319040e-01, 1.31671969e-02, 2.42665097e-01,\n",
              "         6.78572105e-03],\n",
              "        [1.38125002e-01, 7.17318105e-03, 1.52245956e-03, 8.53143692e-01,\n",
              "         3.56242635e-05],\n",
              "        ...,\n",
              "        [2.81080293e-06, 7.14687339e-04, 5.63683629e-04, 2.41896282e-06,\n",
              "         9.98716474e-01],\n",
              "        [5.58454767e-02, 4.25886244e-01, 1.19663596e-01, 7.19641671e-02,\n",
              "         3.26640546e-01],\n",
              "        [1.89087495e-01, 6.56330884e-01, 4.52717319e-02, 4.57684733e-02,\n",
              "         6.35413826e-02]], dtype=float32))"
            ]
          },
          "metadata": {},
          "execution_count": 158
        }
      ]
    },
    {
      "cell_type": "code",
      "source": [
        "model_1_pred_classes = tf.argmax(model_1_preds, axis = 1)\n",
        "model_1_pred_classes"
      ],
      "metadata": {
        "colab": {
          "base_uri": "https://localhost:8080/"
        },
        "id": "1Lbup2VGs4VN",
        "outputId": "6fed9171-42b0-40bf-ef67-2a155ae3db24"
      },
      "execution_count": null,
      "outputs": [
        {
          "output_type": "execute_result",
          "data": {
            "text/plain": [
              "<tf.Tensor: shape=(30212,), dtype=int64, numpy=array([0, 0, 3, ..., 4, 1, 1])>"
            ]
          },
          "metadata": {},
          "execution_count": 159
        }
      ]
    },
    {
      "cell_type": "code",
      "source": [
        "model_1_results = calculate_results(val_label_encoder,model_1_pred_classes)\n",
        "model_1_results"
      ],
      "metadata": {
        "colab": {
          "base_uri": "https://localhost:8080/"
        },
        "id": "uplYoEqTSL25",
        "outputId": "b9f7241f-b366-405b-c11c-15d3376141b8"
      },
      "execution_count": null,
      "outputs": [
        {
          "output_type": "execute_result",
          "data": {
            "text/plain": [
              "{'accuracy': 78.40262147491063,\n",
              " 'precision': 0.7808076874079573,\n",
              " 'recall': 0.7840262147491063,\n",
              " 'f1': 0.78148039680367}"
            ]
          },
          "metadata": {},
          "execution_count": 229
        }
      ]
    },
    {
      "cell_type": "markdown",
      "source": [
        "## Model_2 - Feature extraction Model\n",
        "\n",
        "https://tfhub.dev/google/universal-sentence-encoder/4"
      ],
      "metadata": {
        "id": "D76zuRqUtgQB"
      }
    },
    {
      "cell_type": "code",
      "source": [
        "import tensorflow_hub as hub\n",
        "embedding_layer = hub.KerasLayer('https://tfhub.dev/google/universal-sentence-encoder/4',\n",
        "                                 trainable=False,\n",
        "                                 name = 'Universal_sentence_encoder')"
      ],
      "metadata": {
        "id": "gXQwhNTpyX0T"
      },
      "execution_count": null,
      "outputs": []
    },
    {
      "cell_type": "code",
      "source": [
        "target_sentences = random.choice(train_sentences)\n",
        "use_embedded_sentence = embedding_layer([target_sentences])\n",
        "print(f\"\"\"\n",
        "Target Sentence : {target_sentences},\n",
        "Embedded layer sentences : {use_embedded_sentence.shape}\"\"\")"
      ],
      "metadata": {
        "colab": {
          "base_uri": "https://localhost:8080/"
        },
        "id": "U3qVnV2kym_O",
        "outputId": "d7f9ba69-8f64-4249-eb8f-d03c0898535b"
      },
      "execution_count": null,
      "outputs": [
        {
          "output_type": "stream",
          "name": "stdout",
          "text": [
            "\n",
            "Target Sentence : to be eligible for inclusion , participants had to have at least one measurable lesion by ct or mri according to response evaluation criteria in solid tumors ( recist ) ; eastern cooperative oncology group performance status @-@ ; adequate bone marrow , liver , and renal function ; and serum thyroid-stimulating hormone concentration lower than @ miu/l .,\n",
            "Embedded layer sentences : (1, 512)\n"
          ]
        }
      ]
    },
    {
      "cell_type": "code",
      "source": [
        "inputs = layers.Input(shape = [],dtype = tf.string)\n",
        "x = embedding_layer(inputs)\n",
        "outputs = layers.Dense(num_classes,activation ='softmax' )(x)\n",
        "\n",
        "model_2 = tf.keras.Model(inputs,outputs, name = \"Model_2_feature_extraction_model\")\n",
        "\n",
        "model_2.summary()"
      ],
      "metadata": {
        "colab": {
          "base_uri": "https://localhost:8080/"
        },
        "id": "xB8XxzZxzGWX",
        "outputId": "ac1ce44a-ec23-4a2a-db52-b1e0057cad00"
      },
      "execution_count": null,
      "outputs": [
        {
          "output_type": "stream",
          "name": "stdout",
          "text": [
            "Model: \"Model_2_feature_extraction_model\"\n",
            "_________________________________________________________________\n",
            " Layer (type)                Output Shape              Param #   \n",
            "=================================================================\n",
            " input_7 (InputLayer)        [(None,)]                 0         \n",
            "                                                                 \n",
            " Universal_sentence_encoder  (None, 512)               256797824 \n",
            "  (KerasLayer)                                                   \n",
            "                                                                 \n",
            " dense_11 (Dense)            (None, 5)                 2565      \n",
            "                                                                 \n",
            "=================================================================\n",
            "Total params: 256800389 (979.62 MB)\n",
            "Trainable params: 2565 (10.02 KB)\n",
            "Non-trainable params: 256797824 (979.61 MB)\n",
            "_________________________________________________________________\n"
          ]
        }
      ]
    },
    {
      "cell_type": "code",
      "source": [
        "model_2.compile(loss=\"categorical_crossentropy\", # if your labels are integer form (not one hot) use sparse_categorical_crossentropy\n",
        "                optimizer=tf.keras.optimizers.Adam(),\n",
        "                metrics=[\"accuracy\"])\n",
        "\n",
        "# Fit the model\n",
        "model_2_history = model_2.fit(train_datasets,\n",
        "                              steps_per_epoch=int(0.1 * len(train_datasets)), # only fit on 10% of batches for faster training time\n",
        "                              epochs=3,\n",
        "                              validation_data=val_datasets,\n",
        "                              validation_steps=int(0.1 * len(val_datasets))) # only validate on 10% of batches"
      ],
      "metadata": {
        "colab": {
          "base_uri": "https://localhost:8080/"
        },
        "id": "JZ1nQrZU0728",
        "outputId": "5f1a5994-62d2-4a49-adc3-045c4f60725a"
      },
      "execution_count": null,
      "outputs": [
        {
          "output_type": "stream",
          "name": "stdout",
          "text": [
            "Epoch 1/3\n",
            "562/562 [==============================] - 12s 16ms/step - loss: 1.2584 - accuracy: 0.5477 - val_loss: 1.0847 - val_accuracy: 0.5997\n",
            "Epoch 2/3\n",
            "562/562 [==============================] - 9s 15ms/step - loss: 1.0112 - accuracy: 0.6269 - val_loss: 0.9549 - val_accuracy: 0.6506\n",
            "Epoch 3/3\n",
            "562/562 [==============================] - 7s 13ms/step - loss: 0.9309 - accuracy: 0.6576 - val_loss: 0.8952 - val_accuracy: 0.6735\n"
          ]
        }
      ]
    },
    {
      "cell_type": "code",
      "source": [
        "model_2.evaluate(val_datasets)"
      ],
      "metadata": {
        "colab": {
          "base_uri": "https://localhost:8080/"
        },
        "id": "ncLWuooi1PvP",
        "outputId": "ec73af68-c8e9-46a4-ce1c-a34d333183ef"
      },
      "execution_count": null,
      "outputs": [
        {
          "output_type": "stream",
          "name": "stdout",
          "text": [
            "945/945 [==============================] - 11s 12ms/step - loss: 0.8932 - accuracy: 0.6749\n"
          ]
        },
        {
          "output_type": "execute_result",
          "data": {
            "text/plain": [
              "[0.8931803107261658, 0.6748973727226257]"
            ]
          },
          "metadata": {},
          "execution_count": 164
        }
      ]
    },
    {
      "cell_type": "code",
      "source": [
        "## making predictions with model_2\n",
        "model_2_preds = model_2.predict(val_datasets)\n",
        "model_2_preds_classes = tf.argmax(model_2_preds, axis =1)# converting probs  into classes\n",
        "# Calculating results\n",
        "model_2_results = calculate_results(val_label_encoder,model_2_preds_classes)\n",
        "model_2_results"
      ],
      "metadata": {
        "colab": {
          "base_uri": "https://localhost:8080/"
        },
        "id": "oJJs0l7n1evk",
        "outputId": "dd430190-13c7-4234-8e18-c6e9340bd57d"
      },
      "execution_count": null,
      "outputs": [
        {
          "output_type": "stream",
          "name": "stdout",
          "text": [
            "945/945 [==============================] - 10s 11ms/step\n"
          ]
        },
        {
          "output_type": "execute_result",
          "data": {
            "text/plain": [
              "{'accuracy': 67.48973917648617,\n",
              " 'precision': 0.6703372208409041,\n",
              " 'recall': 0.6748973917648616,\n",
              " 'f1': 0.6592951312830357}"
            ]
          },
          "metadata": {},
          "execution_count": 165
        }
      ]
    },
    {
      "cell_type": "markdown",
      "source": [
        "## Model _ 3 - Model with character embeddings"
      ],
      "metadata": {
        "id": "3w4ycjPV2z44"
      }
    },
    {
      "cell_type": "markdown",
      "source": [
        "## Creating a Character level tokenizer"
      ],
      "metadata": {
        "id": "dpxZfdB730hr"
      }
    },
    {
      "cell_type": "code",
      "source": [
        "# Make functions to split sentences into characters\n",
        "def split_char(text):\n",
        "    return \" \".join(list(text))"
      ],
      "metadata": {
        "id": "RhiHnrsc4zd_"
      },
      "execution_count": null,
      "outputs": []
    },
    {
      "cell_type": "code",
      "source": [
        "# Test splitting our function\n",
        "split_char(train_sentences[42])"
      ],
      "metadata": {
        "colab": {
          "base_uri": "https://localhost:8080/",
          "height": 53
        },
        "id": "kxPAtipZ5KMt",
        "outputId": "bf7abb2a-1580-44c7-d96f-e6e14b6d1579"
      },
      "execution_count": null,
      "outputs": [
        {
          "output_type": "execute_result",
          "data": {
            "text/plain": [
              "'s e c o n d a r y   e n d p o i n t s   w e r e   t h e   r e l a t i v e   r e d u c t i o n   o f   s l o u g h y   t i s s u e   a n d   t h e   p e r c e n t a g e   o f   p a t i e n t s   p r e s e n t i n g   w i t h   a   d e b r i d e d   w o u n d   .'"
            ],
            "application/vnd.google.colaboratory.intrinsic+json": {
              "type": "string"
            }
          },
          "metadata": {},
          "execution_count": 167
        }
      ]
    },
    {
      "cell_type": "code",
      "source": [
        "train_chars = [split_char(sentences) for sentences in train_sentences]\n",
        "val_chars = [split_char(sentences) for sentences in val_sentences]\n",
        "test_chars = [split_char(sentences) for sentences in test_sentences]\n",
        "train_chars[:5]"
      ],
      "metadata": {
        "colab": {
          "base_uri": "https://localhost:8080/"
        },
        "id": "nt9Wy8C75P-4",
        "outputId": "ad7dfcbd-5aba-4f30-abb4-2e0e1bd05ec4"
      },
      "execution_count": null,
      "outputs": [
        {
          "output_type": "execute_result",
          "data": {
            "text/plain": [
              "['t o   i n v e s t i g a t e   t h e   e f f i c a c y   o f   @   w e e k s   o f   d a i l y   l o w - d o s e   o r a l   p r e d n i s o l o n e   i n   i m p r o v i n g   p a i n   ,   m o b i l i t y   ,   a n d   s y s t e m i c   l o w - g r a d e   i n f l a m m a t i o n   i n   t h e   s h o r t   t e r m   a n d   w h e t h e r   t h e   e f f e c t   w o u l d   b e   s u s t a i n e d   a t   @   w e e k s   i n   o l d e r   a d u l t s   w i t h   m o d e r a t e   t o   s e v e r e   k n e e   o s t e o a r t h r i t i s   (   o a   )   .',\n",
              " 'a   t o t a l   o f   @   p a t i e n t s   w i t h   p r i m a r y   k n e e   o a   w e r e   r a n d o m i z e d   @ : @   ;   @   r e c e i v e d   @   m g / d a y   o f   p r e d n i s o l o n e   a n d   @   r e c e i v e d   p l a c e b o   f o r   @   w e e k s   .',\n",
              " 'o u t c o m e   m e a s u r e s   i n c l u d e d   p a i n   r e d u c t i o n   a n d   i m p r o v e m e n t   i n   f u n c t i o n   s c o r e s   a n d   s y s t e m i c   i n f l a m m a t i o n   m a r k e r s   .',\n",
              " 'p a i n   w a s   a s s e s s e d   u s i n g   t h e   v i s u a l   a n a l o g   p a i n   s c a l e   (   @ - @   m m   )   .',\n",
              " 's e c o n d a r y   o u t c o m e   m e a s u r e s   i n c l u d e d   t h e   w e s t e r n   o n t a r i o   a n d   m c m a s t e r   u n i v e r s i t i e s   o s t e o a r t h r i t i s   i n d e x   s c o r e s   ,   p a t i e n t   g l o b a l   a s s e s s m e n t   (   p g a   )   o f   t h e   s e v e r i t y   o f   k n e e   o a   ,   a n d   @ - m i n   w a l k   d i s t a n c e   (   @ m w d   )   .']"
            ]
          },
          "metadata": {},
          "execution_count": 168
        }
      ]
    },
    {
      "cell_type": "code",
      "source": [
        "# What's the average length of character?\n",
        "chars_len = [len(sentence) for sentence in train_sentences]\n",
        "mean_char_len = np.mean(chars_len)\n",
        "mean_char_len"
      ],
      "metadata": {
        "colab": {
          "base_uri": "https://localhost:8080/"
        },
        "id": "YE7ITbRC53kt",
        "outputId": "2ad74ef0-c234-4408-e00d-cd202431ac05"
      },
      "execution_count": null,
      "outputs": [
        {
          "output_type": "execute_result",
          "data": {
            "text/plain": [
              "149.3662574983337"
            ]
          },
          "metadata": {},
          "execution_count": 169
        }
      ]
    },
    {
      "cell_type": "code",
      "source": [
        "plt.hist(chars_len , bins = 10);\n",
        "\n",
        "max_tokens = 300 #from visualization\n",
        "\n"
      ],
      "metadata": {
        "colab": {
          "base_uri": "https://localhost:8080/",
          "height": 434
        },
        "id": "a5DYjMoR58A8",
        "outputId": "3ced7819-18b0-4607-f93c-47f7966a7eb0"
      },
      "execution_count": null,
      "outputs": [
        {
          "output_type": "display_data",
          "data": {
            "text/plain": [
              "<Figure size 640x480 with 1 Axes>"
            ],
            "image/png": "[encoded data removed]"
          },
          "metadata": {}
        }
      ]
    },
    {
      "cell_type": "code",
      "source": [
        "np.percentile(chars_len , 95)"
      ],
      "metadata": {
        "colab": {
          "base_uri": "https://localhost:8080/"
        },
        "id": "zci3A3jG6qwH",
        "outputId": "5532bac4-1009-44d2-d095-1ec76b55c978"
      },
      "execution_count": null,
      "outputs": [
        {
          "output_type": "execute_result",
          "data": {
            "text/plain": [
              "290.0"
            ]
          },
          "metadata": {},
          "execution_count": 171
        }
      ]
    },
    {
      "cell_type": "code",
      "source": [
        "import string\n",
        "alphabets = string.ascii_lowercase +string.digits+string.punctuation\n",
        "alphabets"
      ],
      "metadata": {
        "colab": {
          "base_uri": "https://localhost:8080/",
          "height": 36
        },
        "id": "ILTSirJw7Mbx",
        "outputId": "e62cbf00-c4f7-4130-8dce-7845cda8bbcf"
      },
      "execution_count": null,
      "outputs": [
        {
          "output_type": "execute_result",
          "data": {
            "text/plain": [
              "'abcdefghijklmnopqrstuvwxyz0123456789!\"#$%&\\'()*+,-./:;<=>?@[\\\\]^_`{|}~'"
            ],
            "application/vnd.google.colaboratory.intrinsic+json": {
              "type": "string"
            }
          },
          "metadata": {},
          "execution_count": 172
        }
      ]
    },
    {
      "cell_type": "code",
      "source": [
        "max_token = len(alphabets)+2 ## add two for space and [unk] as unknown character\n",
        "max_token"
      ],
      "metadata": {
        "colab": {
          "base_uri": "https://localhost:8080/"
        },
        "id": "L4sdS37o9IBP",
        "outputId": "2ca959db-fc43-4e30-fcd5-10e50a75dac2"
      },
      "execution_count": null,
      "outputs": [
        {
          "output_type": "execute_result",
          "data": {
            "text/plain": [
              "70"
            ]
          },
          "metadata": {},
          "execution_count": 173
        }
      ]
    },
    {
      "cell_type": "code",
      "source": [
        "char_vectorizer = layers.TextVectorization(max_tokens = max_token,\n",
        "                                           output_sequence_length=290,\n",
        "                                           name = \"char_vectorizer\",\n",
        "                                           )\n",
        "\n",
        "char_vectorizer.adapt(train_chars)"
      ],
      "metadata": {
        "id": "Q36YzMmW9T0T"
      },
      "execution_count": null,
      "outputs": []
    },
    {
      "cell_type": "code",
      "source": [
        "char_vocab = char_vectorizer.get_vocabulary()\n",
        "print(f\"\"\"\n",
        "Total words : {len(char_vocab)},\n",
        "Top Unique words : {char_vocab[:5]}\n",
        "Least unique words : {char_vocab[-5:]}\n",
        "\n",
        "\"\"\")"
      ],
      "metadata": {
        "colab": {
          "base_uri": "https://localhost:8080/"
        },
        "id": "GL3GBZ4Z-BUC",
        "outputId": "8d60585a-fe44-4fd4-981e-51b30569e826"
      },
      "execution_count": null,
      "outputs": [
        {
          "output_type": "stream",
          "name": "stdout",
          "text": [
            "\n",
            "Total words : 28,\n",
            "Top Unique words : ['', '[UNK]', 'e', 't', 'i']\n",
            "Least unique words : ['k', 'x', 'z', 'q', 'j']\n",
            "\n",
            "\n"
          ]
        }
      ]
    },
    {
      "cell_type": "code",
      "source": [
        "char_vocab = char_vectorizer.get_vocabulary()\n",
        "print(f\"\"\"\n",
        "Total words : {len(char_vocab)},\n",
        "Top Unique words : {char_vocab[:5]}\n",
        "Least unique words : {char_vocab[-5:]}\n",
        "\n",
        "\"\"\")"
      ],
      "metadata": {
        "colab": {
          "base_uri": "https://localhost:8080/"
        },
        "id": "_4B5K0OH-aD2",
        "outputId": "7d20bee0-b5d3-4733-d497-afd699884630"
      },
      "execution_count": null,
      "outputs": [
        {
          "output_type": "stream",
          "name": "stdout",
          "text": [
            "\n",
            "Total words : 28,\n",
            "Top Unique words : ['', '[UNK]', 'e', 't', 'i']\n",
            "Least unique words : ['k', 'x', 'z', 'q', 'j']\n",
            "\n",
            "\n"
          ]
        }
      ]
    },
    {
      "cell_type": "markdown",
      "source": [
        "## Character Embedding"
      ],
      "metadata": {
        "id": "dxi3cKH0_fJC"
      }
    },
    {
      "cell_type": "code",
      "source": [
        "char_embedding_layer  = layers.Embedding(input_dim= len(char_vocab),\n",
        "                              output_dim=25,\n",
        "                              mask_zero = True,\n",
        "                              name = 'char_embedding')"
      ],
      "metadata": {
        "id": "8oVIDLmL_wUq"
      },
      "execution_count": null,
      "outputs": []
    },
    {
      "cell_type": "code",
      "source": [
        "target_chars = random.choice(train_chars)\n",
        "\n",
        "vectorized_char = char_vectorizer([target_chars])\n",
        "embedded_char = char_embedding_layer(vectorized_char)\n",
        "\n",
        "\n",
        "print(f\"\"\"\n",
        "Target_char : {target_chars},\\n\n",
        "Vectorized_char : {vectorized_char},\\n\n",
        "Embedded_char : {embedded_char.shape}\"\"\")"
      ],
      "metadata": {
        "colab": {
          "base_uri": "https://localhost:8080/"
        },
        "id": "RsIztgOO-3Fg",
        "outputId": "06929cdb-2501-4edf-c1b7-af630ec43339"
      },
      "execution_count": null,
      "outputs": [
        {
          "output_type": "stream",
          "name": "stdout",
          "text": [
            "\n",
            "Target_char : t h e   o u t c o m e   m e a s u r e s   w i l l   i n c l u d e   a   g l o b a l   s h i f t   i n   t h e   r a n k i n   s c a l e   s c o r e s   a n d   d i c h o t o m i z e d   s c o r e s   ,   c h a n g e s   i n   q u a l i t y   o f   l i f e   ,   g e n e r a l   h e a l t h   ,   d e p r e s s i o n   ,   a n d   c a r e g i v e r   b u r d e n   a t   @   m o n t h s   p o s t r a n d o m i z a t i o n   .,\n",
            "\n",
            "Vectorized_char : [[ 3 13  2  7 16  3 11  7 15  2 15  2  5  9 16  8  2  9 20  4 12 12  4  6\n",
            "  11 12 16 10  2  5 18 12  7 22  5 12  9 13  4 17  3  4  6  3 13  2  8  5\n",
            "   6 23  4  6  9 11  5 12  2  9 11  7  8  2  9  5  6 10 10  4 11 13  7  3\n",
            "   7 15  4 25  2 10  9 11  7  8  2  9 11 13  5  6 18  2  9  4  6 26 16  5\n",
            "  12  4  3 19  7 17 12  4 17  2 18  2  6  2  8  5 12 13  2  5 12  3 13 10\n",
            "   2 14  8  2  9  9  4  7  6  5  6 10 11  5  8  2 18  4 21  2  8 22 16  8\n",
            "  10  2  6  5  3 15  7  6  3 13  9 14  7  9  3  8  5  6 10  7 15  4 25  5\n",
            "   3  4  7  6  0  0  0  0  0  0  0  0  0  0  0  0  0  0  0  0  0  0  0  0\n",
            "   0  0  0  0  0  0  0  0  0  0  0  0  0  0  0  0  0  0  0  0  0  0  0  0\n",
            "   0  0  0  0  0  0  0  0  0  0  0  0  0  0  0  0  0  0  0  0  0  0  0  0\n",
            "   0  0  0  0  0  0  0  0  0  0  0  0  0  0  0  0  0  0  0  0  0  0  0  0\n",
            "   0  0  0  0  0  0  0  0  0  0  0  0  0  0  0  0  0  0  0  0  0  0  0  0\n",
            "   0  0]],\n",
            "\n",
            "Embedded_char : (1, 290, 25)\n"
          ]
        }
      ]
    },
    {
      "cell_type": "code",
      "source": [
        "# Create 1D convolutional model to process sequences\n",
        "inputs = layers.Input(shape=(1,), dtype=tf.string)\n",
        "char_vectors = char_vectorizer(inputs) # vectorize text inputs\n",
        "char_embeddings = char_embedding_layer(char_vectors) # create embedding\n",
        "x = layers.Conv1D(64, kernel_size=5, padding=\"same\", activation=\"relu\")(char_embeddings)\n",
        "x = layers.GlobalMaxPooling1D()(x) # condense the output of our feature vector\n",
        "outputs = layers.Dense(num_classes, activation=\"softmax\")(x)\n",
        "model_3 = tf.keras.Model(inputs, outputs ,name = 'Model_3_Character_embedding')\n",
        "\n",
        "# Compile\n",
        "model_3.compile(loss=\"categorical_crossentropy\", # if your labels are integer form (not one hot) use sparse_categorical_crossentropy\n",
        "                optimizer=tf.keras.optimizers.Adam(),\n",
        "                metrics=[\"accuracy\"])\n",
        "\n",
        "model_3.summary()"
      ],
      "metadata": {
        "colab": {
          "base_uri": "https://localhost:8080/"
        },
        "id": "HxYG2J5q_8nL",
        "outputId": "0f677faf-5102-4229-c5de-ec46b303687f"
      },
      "execution_count": null,
      "outputs": [
        {
          "output_type": "stream",
          "name": "stdout",
          "text": [
            "Model: \"Model_3_Character_embedding\"\n",
            "_________________________________________________________________\n",
            " Layer (type)                Output Shape              Param #   \n",
            "=================================================================\n",
            " input_8 (InputLayer)        [(None, 1)]               0         \n",
            "                                                                 \n",
            " char_vectorizer (TextVecto  (None, 290)               0         \n",
            " rization)                                                       \n",
            "                                                                 \n",
            " char_embedding (Embedding)  (None, 290, 25)           700       \n",
            "                                                                 \n",
            " conv1d_3 (Conv1D)           (None, 290, 64)           8064      \n",
            "                                                                 \n",
            " global_max_pooling1d_1 (Gl  (None, 64)                0         \n",
            " obalMaxPooling1D)                                               \n",
            "                                                                 \n",
            " dense_12 (Dense)            (None, 5)                 325       \n",
            "                                                                 \n",
            "=================================================================\n",
            "Total params: 9089 (35.50 KB)\n",
            "Trainable params: 9089 (35.50 KB)\n",
            "Non-trainable params: 0 (0.00 Byte)\n",
            "_________________________________________________________________\n"
          ]
        }
      ]
    },
    {
      "cell_type": "code",
      "source": [
        "train_char_datasets = tf.data.Dataset.from_tensor_slices((train_chars,train_one_hot_labels))\n",
        "val_char_datasets = tf.data.Dataset.from_tensor_slices((val_chars,val_one_hot_labels))\n",
        "test_char_datasets = tf.data.Dataset.from_tensor_slices((test_chars,test_one_hot_labels))\n",
        "\n",
        "\n",
        "\n",
        "\n",
        "train_char_datasets = train_char_datasets.batch(32).prefetch(tf.data.AUTOTUNE)\n",
        "val_char_datasets = val_char_datasets.batch(32).prefetch(tf.data.AUTOTUNE)\n",
        "test_char_datasets = test_char_datasets.batch(32).prefetch(tf.data.AUTOTUNE)"
      ],
      "metadata": {
        "id": "47Qo0AE8CmDh"
      },
      "execution_count": null,
      "outputs": []
    },
    {
      "cell_type": "code",
      "source": [
        "model_3_history = model_3.fit(train_char_datasets,\n",
        "                              steps_per_epoch=int(0.1 * len(train_char_datasets)), # only fit on 10% of batches for faster training time\n",
        "                              epochs=3,\n",
        "                              validation_data=val_datasets,\n",
        "                              validation_steps=int(0.1 * len(val_char_datasets))) # only validate on 10% of batch"
      ],
      "metadata": {
        "colab": {
          "base_uri": "https://localhost:8080/"
        },
        "id": "q3Y3izFaBfIW",
        "outputId": "67ffb825-83d8-4660-ff94-258537b6a2e6"
      },
      "execution_count": null,
      "outputs": [
        {
          "output_type": "stream",
          "name": "stdout",
          "text": [
            "Epoch 1/3\n",
            "562/562 [==============================] - 7s 11ms/step - loss: 1.2409 - accuracy: 0.4986 - val_loss: 1.5598 - val_accuracy: 0.3614\n",
            "Epoch 2/3\n",
            "562/562 [==============================] - 5s 9ms/step - loss: 1.0098 - accuracy: 0.6014 - val_loss: 1.5821 - val_accuracy: 0.3674\n",
            "Epoch 3/3\n",
            "562/562 [==============================] - 3s 6ms/step - loss: 0.9237 - accuracy: 0.6446 - val_loss: 1.6593 - val_accuracy: 0.3674\n"
          ]
        }
      ]
    },
    {
      "cell_type": "code",
      "source": [
        "model_3.evaluate(val_char_datasets)"
      ],
      "metadata": {
        "colab": {
          "base_uri": "https://localhost:8080/"
        },
        "id": "cvXvLdpJB8hj",
        "outputId": "81296ca9-2eae-41ab-c07a-76781215e336"
      },
      "execution_count": null,
      "outputs": [
        {
          "output_type": "stream",
          "name": "stdout",
          "text": [
            "945/945 [==============================] - 6s 6ms/step - loss: 0.8868 - accuracy: 0.6558\n"
          ]
        },
        {
          "output_type": "execute_result",
          "data": {
            "text/plain": [
              "[0.8867931962013245, 0.6557658910751343]"
            ]
          },
          "metadata": {},
          "execution_count": 182
        }
      ]
    },
    {
      "cell_type": "code",
      "source": [
        "## making predictions with model_2\n",
        "model_3_preds = model_3.predict(val_char_datasets)\n",
        "model_3_preds_classes = tf.argmax(model_3_preds, axis =1)# converting probs  into classes\n",
        "# Calculating results\n",
        "model_3_results = calculate_results(val_label_encoder,model_3_preds_classes)\n",
        "model_3_results"
      ],
      "metadata": {
        "colab": {
          "base_uri": "https://localhost:8080/"
        },
        "id": "BsX0R-oUDP-C",
        "outputId": "7a12a679-c57d-4838-c9f0-dce13e1869eb"
      },
      "execution_count": null,
      "outputs": [
        {
          "output_type": "stream",
          "name": "stdout",
          "text": [
            "945/945 [==============================] - 4s 4ms/step\n"
          ]
        },
        {
          "output_type": "execute_result",
          "data": {
            "text/plain": [
              "{'accuracy': 65.57659208261619,\n",
              " 'precision': 0.652040767373586,\n",
              " 'recall': 0.6557659208261618,\n",
              " 'f1': 0.6451774640908629}"
            ]
          },
          "metadata": {},
          "execution_count": 183
        }
      ]
    },
    {
      "cell_type": "markdown",
      "source": [
        "## Model_4 (Multi-Modal Model)"
      ],
      "metadata": {
        "id": "vKrjQNauEQw6"
      }
    },
    {
      "cell_type": "code",
      "source": [
        "# 1. Token Model\n",
        "token_inputs = layers.Input(shape=[],dtype = tf.string)\n",
        "token_embeddings = embedding_layer(token_inputs)\n",
        "token_outputs = layers.Dense(128,activation='relu')(token_embeddings)\n",
        "token_model = tf.keras.Model(token_inputs,token_outputs)\n",
        "\n",
        "# 2. Setup char/model\n",
        "char_inputs = layers.Input(shape = [], dtype = tf.string , name = 'Char_input_layer')\n",
        "char_vectors = char_vectorizer(char_inputs)\n",
        "char_embedd = char_embedding_layer(char_vectors)\n",
        "char_bi_lstm = layers.Bidirectional(layers.LSTM(24))(char_embedd)\n",
        "char_model = tf.keras.Model(inputs = char_inputs,\n",
        "                            outputs = char_bi_lstm)\n",
        "\n",
        "# 3. concatinate the token and char inputs\n",
        "token_char_concat = layers.Concatenate(name='Token_char_hybrid')([token_model.output,char_model.output])\n",
        "\n",
        "# 4. create ouput layers adding in dropouts\n",
        "combined_dropout = layers.Dropout(0.5)(token_char_concat)\n",
        "combined_dense = layers.Dense(128 , activation='relu')(combined_dropout)\n",
        "final_dropout = layers.Dropout(0.5)(combined_dense)\n",
        "output_layer = layers.Dense(num_classes,activation='softmax')(final_dropout)\n",
        "\n",
        "\n",
        "model_4 = tf.keras.Model(inputs =[token_model.input,char_model.input],\n",
        "                         outputs = output_layer,\n",
        "                         name = \"Model_4_token_char_embeddings\")\n",
        "\n",
        "model_4.summary()"
      ],
      "metadata": {
        "colab": {
          "base_uri": "https://localhost:8080/"
        },
        "id": "sz0d7h3kXIHD",
        "outputId": "654229d5-1941-4fcc-dcb2-f5edd42a2730"
      },
      "execution_count": null,
      "outputs": [
        {
          "output_type": "stream",
          "name": "stdout",
          "text": [
            "Model: \"Model_4_token_char_embeddings\"\n",
            "__________________________________________________________________________________________________\n",
            " Layer (type)                Output Shape                 Param #   Connected to                  \n",
            "==================================================================================================\n",
            " Char_input_layer (InputLay  [(None,)]                    0         []                            \n",
            " er)                                                                                              \n",
            "                                                                                                  \n",
            " input_9 (InputLayer)        [(None,)]                    0         []                            \n",
            "                                                                                                  \n",
            " char_vectorizer (TextVecto  (None, 290)                  0         ['Char_input_layer[0][0]']    \n",
            " rization)                                                                                        \n",
            "                                                                                                  \n",
            " Universal_sentence_encoder  (None, 512)                  2567978   ['input_9[0][0]']             \n",
            "  (KerasLayer)                                            24                                      \n",
            "                                                                                                  \n",
            " char_embedding (Embedding)  (None, 290, 25)              700       ['char_vectorizer[1][0]']     \n",
            "                                                                                                  \n",
            " dense_13 (Dense)            (None, 128)                  65664     ['Universal_sentence_encoder[1\n",
            "                                                                    ][0]']                        \n",
            "                                                                                                  \n",
            " bidirectional_2 (Bidirecti  (None, 48)                   9600      ['char_embedding[1][0]']      \n",
            " onal)                                                                                            \n",
            "                                                                                                  \n",
            " Token_char_hybrid (Concate  (None, 176)                  0         ['dense_13[0][0]',            \n",
            " nate)                                                               'bidirectional_2[0][0]']     \n",
            "                                                                                                  \n",
            " dropout_3 (Dropout)         (None, 176)                  0         ['Token_char_hybrid[0][0]']   \n",
            "                                                                                                  \n",
            " dense_14 (Dense)            (None, 128)                  22656     ['dropout_3[0][0]']           \n",
            "                                                                                                  \n",
            " dropout_4 (Dropout)         (None, 128)                  0         ['dense_14[0][0]']            \n",
            "                                                                                                  \n",
            " dense_15 (Dense)            (None, 5)                    645       ['dropout_4[0][0]']           \n",
            "                                                                                                  \n",
            "==================================================================================================\n",
            "Total params: 256897089 (979.98 MB)\n",
            "Trainable params: 99265 (387.75 KB)\n",
            "Non-trainable params: 256797824 (979.61 MB)\n",
            "__________________________________________________________________________________________________\n"
          ]
        }
      ]
    },
    {
      "cell_type": "code",
      "source": [
        "from keras.utils import plot_model\n",
        "plot_model(model_4,show_shapes = True)"
      ],
      "metadata": {
        "colab": {
          "base_uri": "https://localhost:8080/",
          "height": 976
        },
        "id": "KwPjpYLFlcBj",
        "outputId": "49fad4b3-585b-4d66-feb9-195d578cbd72"
      },
      "execution_count": null,
      "outputs": [
        {
          "output_type": "execute_result",
          "data": {
            "image/png": "[encoded data removed]",
            "text/plain": [
              "<IPython.core.display.Image object>"
            ]
          },
          "metadata": {},
          "execution_count": 185
        }
      ]
    },
    {
      "cell_type": "code",
      "source": [
        "model_4.compile(optimizer = 'adam',\n",
        "                loss = 'categorical_crossentropy',\n",
        "                metrics = ['accuracy'])"
      ],
      "metadata": {
        "id": "ogeO5XPVj2t4"
      },
      "execution_count": null,
      "outputs": []
    },
    {
      "cell_type": "code",
      "source": [
        "## COmbining token and character data into a tf.DataSet\n",
        "train_char_token_data = tf.data.Dataset.from_tensor_slices((train_sentences,train_chars))\n",
        "train_char_token_label = tf.data.Dataset.from_tensor_slices((train_one_hot_labels))\n",
        "train_char_token_dataset = tf.data.Dataset.zip((train_char_token_data,train_char_token_label))\n",
        "\n",
        "\n",
        "train_char_token_dataset = train_char_token_dataset.batch(32).prefetch(tf.data.AUTOTUNE)\n",
        "\n",
        "\n",
        "val_char_token_data = tf.data.Dataset.from_tensor_slices((val_sentences,val_chars))\n",
        "val_char_token_label = tf.data.Dataset.from_tensor_slices((val_one_hot_labels))\n",
        "val_char_token_dataset = tf.data.Dataset.zip((val_char_token_data,val_char_token_label))\n",
        "\n",
        "\n",
        "val_char_token_dataset = val_char_token_dataset.batch(32).prefetch(tf.data.AUTOTUNE)\n"
      ],
      "metadata": {
        "id": "CzwOqQARkjFB"
      },
      "execution_count": null,
      "outputs": []
    },
    {
      "cell_type": "code",
      "source": [
        "train_char_token_dataset , val_char_token_dataset"
      ],
      "metadata": {
        "colab": {
          "base_uri": "https://localhost:8080/"
        },
        "id": "eue71y6Pp0Ht",
        "outputId": "a6d2d2f2-704d-4f80-b166-e390b43362ac"
      },
      "execution_count": null,
      "outputs": [
        {
          "output_type": "execute_result",
          "data": {
            "text/plain": [
              "(<_PrefetchDataset element_spec=((TensorSpec(shape=(None,), dtype=tf.string, name=None), TensorSpec(shape=(None,), dtype=tf.string, name=None)), TensorSpec(shape=(None, 5), dtype=tf.float64, name=None))>,\n",
              " <_PrefetchDataset element_spec=((TensorSpec(shape=(None,), dtype=tf.string, name=None), TensorSpec(shape=(None,), dtype=tf.string, name=None)), TensorSpec(shape=(None, 5), dtype=tf.float64, name=None))>)"
            ]
          },
          "metadata": {},
          "execution_count": 188
        }
      ]
    },
    {
      "cell_type": "code",
      "source": [
        "history_4 = model_4.fit((train_char_token_dataset),\n",
        "                        epochs = 3,\n",
        "                        steps_per_epoch = (0.1*len(train_char_token_dataset)),\n",
        "                        validation_data = val_char_token_dataset,\n",
        "                        validation_steps=(0.1*len(val_char_token_dataset))\n",
        "            )"
      ],
      "metadata": {
        "colab": {
          "base_uri": "https://localhost:8080/"
        },
        "id": "4hYlhCXPovlG",
        "outputId": "c5091e7a-205f-40ae-8d81-aba498728b39"
      },
      "execution_count": null,
      "outputs": [
        {
          "output_type": "stream",
          "name": "stdout",
          "text": [
            "Epoch 1/3\n",
            "562/562 [==============================] - 68s 93ms/step - loss: 0.9880 - accuracy: 0.6024 - val_loss: 0.7865 - val_accuracy: 0.6990\n",
            "Epoch 2/3\n",
            "562/562 [==============================] - 28s 50ms/step - loss: 0.7964 - accuracy: 0.6929 - val_loss: 0.7154 - val_accuracy: 0.7250\n",
            "Epoch 3/3\n",
            "562/562 [==============================] - 25s 45ms/step - loss: 0.7679 - accuracy: 0.7101 - val_loss: 0.6837 - val_accuracy: 0.7421\n"
          ]
        }
      ]
    },
    {
      "cell_type": "code",
      "source": [
        "model_4.evaluate(val_char_token_dataset)"
      ],
      "metadata": {
        "colab": {
          "base_uri": "https://localhost:8080/"
        },
        "id": "sy_rD5_ap-EO",
        "outputId": "6e99527f-70ed-4ef2-b8c1-e0c5cafca019"
      },
      "execution_count": null,
      "outputs": [
        {
          "output_type": "stream",
          "name": "stdout",
          "text": [
            "945/945 [==============================] - 20s 21ms/step - loss: 0.6865 - accuracy: 0.7384\n"
          ]
        },
        {
          "output_type": "execute_result",
          "data": {
            "text/plain": [
              "[0.686510443687439, 0.7384151816368103]"
            ]
          },
          "metadata": {},
          "execution_count": 190
        }
      ]
    },
    {
      "cell_type": "code",
      "source": [
        "model_4_preds = model_4.predict(val_char_token_dataset)\n",
        "model_4_preds"
      ],
      "metadata": {
        "colab": {
          "base_uri": "https://localhost:8080/"
        },
        "id": "DnPzomE0q6_C",
        "outputId": "546c11b4-792d-4876-8739-1442025e37eb"
      },
      "execution_count": null,
      "outputs": [
        {
          "output_type": "stream",
          "name": "stdout",
          "text": [
            "945/945 [==============================] - 24s 22ms/step\n"
          ]
        },
        {
          "output_type": "execute_result",
          "data": {
            "text/plain": [
              "array([[4.0463158e-01, 4.2692676e-01, 3.7389444e-03, 1.5715288e-01,\n",
              "        7.5498652e-03],\n",
              "       [3.2435602e-01, 4.7931665e-01, 3.1571439e-03, 1.8979502e-01,\n",
              "        3.3752385e-03],\n",
              "       [3.0264199e-01, 1.3600115e-01, 4.9190652e-02, 4.7587875e-01,\n",
              "        3.6287408e-02],\n",
              "       ...,\n",
              "       [7.8092259e-04, 8.7754196e-03, 5.7377569e-02, 2.3078360e-04,\n",
              "        9.3283528e-01],\n",
              "       [6.1671454e-03, 5.5669967e-02, 2.5942782e-01, 1.6681358e-03,\n",
              "        6.7706698e-01],\n",
              "       [2.8945991e-01, 3.1579855e-01, 3.1847671e-01, 2.8242629e-02,\n",
              "        4.8022095e-02]], dtype=float32)"
            ]
          },
          "metadata": {},
          "execution_count": 191
        }
      ]
    },
    {
      "cell_type": "code",
      "source": [
        "model_4_preds"
      ],
      "metadata": {
        "colab": {
          "base_uri": "https://localhost:8080/"
        },
        "id": "yLQAgLqsuCRZ",
        "outputId": "b07ea739-f6b4-464c-eb0c-c5d7081ebbc3"
      },
      "execution_count": null,
      "outputs": [
        {
          "output_type": "execute_result",
          "data": {
            "text/plain": [
              "array([[4.0463158e-01, 4.2692676e-01, 3.7389444e-03, 1.5715288e-01,\n",
              "        7.5498652e-03],\n",
              "       [3.2435602e-01, 4.7931665e-01, 3.1571439e-03, 1.8979502e-01,\n",
              "        3.3752385e-03],\n",
              "       [3.0264199e-01, 1.3600115e-01, 4.9190652e-02, 4.7587875e-01,\n",
              "        3.6287408e-02],\n",
              "       ...,\n",
              "       [7.8092259e-04, 8.7754196e-03, 5.7377569e-02, 2.3078360e-04,\n",
              "        9.3283528e-01],\n",
              "       [6.1671454e-03, 5.5669967e-02, 2.5942782e-01, 1.6681358e-03,\n",
              "        6.7706698e-01],\n",
              "       [2.8945991e-01, 3.1579855e-01, 3.1847671e-01, 2.8242629e-02,\n",
              "        4.8022095e-02]], dtype=float32)"
            ]
          },
          "metadata": {},
          "execution_count": 192
        }
      ]
    },
    {
      "cell_type": "code",
      "source": [
        "model_4_pred_label = tf.argmax(model_4_preds, axis = 1)"
      ],
      "metadata": {
        "id": "Hu7JehEstNpb"
      },
      "execution_count": null,
      "outputs": []
    },
    {
      "cell_type": "code",
      "source": [
        "# @title Default title text\n",
        "model_4_pred_label"
      ],
      "metadata": {
        "colab": {
          "base_uri": "https://localhost:8080/"
        },
        "id": "uuRk7_BsuS0_",
        "outputId": "ea1c17a7-d20b-48f1-951b-6cc47ee7db93"
      },
      "execution_count": null,
      "outputs": [
        {
          "output_type": "execute_result",
          "data": {
            "text/plain": [
              "<tf.Tensor: shape=(30212,), dtype=int64, numpy=array([1, 1, 3, ..., 4, 4, 2])>"
            ]
          },
          "metadata": {},
          "execution_count": 194
        }
      ]
    },
    {
      "cell_type": "code",
      "source": [
        "model_4_results = calculate_results(val_label_encoder, model_4_pred_label)\n",
        "model_4_results"
      ],
      "metadata": {
        "colab": {
          "base_uri": "https://localhost:8080/"
        },
        "id": "l2n4CJafqxHp",
        "outputId": "c0933566-ec25-43d6-aa74-f98c8b781b2d"
      },
      "execution_count": null,
      "outputs": [
        {
          "output_type": "execute_result",
          "data": {
            "text/plain": [
              "{'accuracy': 73.84151992585728,\n",
              " 'precision': 0.7380382223018148,\n",
              " 'recall': 0.7384151992585728,\n",
              " 'f1': 0.7352748333405811}"
            ]
          },
          "metadata": {},
          "execution_count": 195
        }
      ]
    },
    {
      "cell_type": "markdown",
      "source": [
        "## Preperation for Model_5 ~ Pretrained token Embedding + Character Embedding + positional embeddings(tri-brid Model)\n"
      ],
      "metadata": {
        "id": "WPBKoDe_rLsF"
      }
    },
    {
      "cell_type": "markdown",
      "source": [
        "## Feature Engineering\n",
        "1. Data Augumentation\n",
        "2. Enginnered Feature need to remembered\n",
        "\n",
        ">📝**NOTE** : any feature that is used to train the model need to be available at test time."
      ],
      "metadata": {
        "id": "d2odp5fas26m"
      }
    },
    {
      "cell_type": "markdown",
      "source": [
        "## Creating Positional Embeddings"
      ],
      "metadata": {
        "id": "2zqs3V7lxVEL"
      }
    },
    {
      "cell_type": "code",
      "source": [
        "## how many diffrent lines numbers are there?\n",
        "train_df[\"line_number\"].value_counts()"
      ],
      "metadata": {
        "colab": {
          "base_uri": "https://localhost:8080/"
        },
        "id": "UymvZ8WBy7ZB",
        "outputId": "937b13c1-af22-4204-fd40-11160216defb"
      },
      "execution_count": null,
      "outputs": [
        {
          "output_type": "execute_result",
          "data": {
            "text/plain": [
              "0     15000\n",
              "1     15000\n",
              "2     15000\n",
              "3     15000\n",
              "4     14992\n",
              "5     14949\n",
              "6     14758\n",
              "7     14279\n",
              "8     13346\n",
              "9     11981\n",
              "10    10041\n",
              "11     7892\n",
              "12     5853\n",
              "13     4152\n",
              "14     2835\n",
              "15     1861\n",
              "16     1188\n",
              "17      751\n",
              "18      462\n",
              "19      286\n",
              "20      162\n",
              "21      101\n",
              "22       66\n",
              "23       33\n",
              "24       22\n",
              "25       14\n",
              "26        7\n",
              "27        4\n",
              "28        3\n",
              "29        1\n",
              "30        1\n",
              "Name: line_number, dtype: int64"
            ]
          },
          "metadata": {},
          "execution_count": 196
        }
      ]
    },
    {
      "cell_type": "code",
      "source": [
        "train_df['line_number'].plot.hist()"
      ],
      "metadata": {
        "colab": {
          "base_uri": "https://localhost:8080/",
          "height": 451
        },
        "id": "P0HAcMfRzKq8",
        "outputId": "f45f94a7-be19-461e-aa7a-3b06225321f0"
      },
      "execution_count": null,
      "outputs": [
        {
          "output_type": "execute_result",
          "data": {
            "text/plain": [
              "<Axes: ylabel='Frequency'>"
            ]
          },
          "metadata": {},
          "execution_count": 197
        },
        {
          "output_type": "display_data",
          "data": {
            "text/plain": [
              "<Figure size 640x480 with 1 Axes>"
            ],
            "image/png": "[encoded data removed]"
          },
          "metadata": {}
        }
      ]
    },
    {
      "cell_type": "code",
      "source": [
        "## usinf tf for one hot encoding number?\n",
        "train_df_line_number_one_hot = tf.one_hot(train_df['line_number'].to_numpy(),depth = 15)\n",
        "val_df_line_number_one_hot = tf.one_hot(val_df['line_number'].to_numpy(),depth = 15)\n",
        "test_df_line_number_one_hot = tf.one_hot(test_df['line_number'].to_numpy(),depth = 15)\n",
        "train_df_line_number_one_hot[:10],train_df_line_number_one_hot.shape"
      ],
      "metadata": {
        "colab": {
          "base_uri": "https://localhost:8080/"
        },
        "id": "r-HjC_01zut7",
        "outputId": "b65cd9cf-1888-4618-d06d-43aac03453f1"
      },
      "execution_count": null,
      "outputs": [
        {
          "output_type": "execute_result",
          "data": {
            "text/plain": [
              "(<tf.Tensor: shape=(10, 15), dtype=float32, numpy=\n",
              " array([[1., 0., 0., 0., 0., 0., 0., 0., 0., 0., 0., 0., 0., 0., 0.],\n",
              "        [0., 1., 0., 0., 0., 0., 0., 0., 0., 0., 0., 0., 0., 0., 0.],\n",
              "        [0., 0., 1., 0., 0., 0., 0., 0., 0., 0., 0., 0., 0., 0., 0.],\n",
              "        [0., 0., 0., 1., 0., 0., 0., 0., 0., 0., 0., 0., 0., 0., 0.],\n",
              "        [0., 0., 0., 0., 1., 0., 0., 0., 0., 0., 0., 0., 0., 0., 0.],\n",
              "        [0., 0., 0., 0., 0., 1., 0., 0., 0., 0., 0., 0., 0., 0., 0.],\n",
              "        [0., 0., 0., 0., 0., 0., 1., 0., 0., 0., 0., 0., 0., 0., 0.],\n",
              "        [0., 0., 0., 0., 0., 0., 0., 1., 0., 0., 0., 0., 0., 0., 0.],\n",
              "        [0., 0., 0., 0., 0., 0., 0., 0., 1., 0., 0., 0., 0., 0., 0.],\n",
              "        [0., 0., 0., 0., 0., 0., 0., 0., 0., 1., 0., 0., 0., 0., 0.]],\n",
              "       dtype=float32)>,\n",
              " TensorShape([180040, 15]))"
            ]
          },
          "metadata": {},
          "execution_count": 198
        }
      ]
    },
    {
      "cell_type": "code",
      "source": [
        "train_df"
      ],
      "metadata": {
        "colab": {
          "base_uri": "https://localhost:8080/",
          "height": 423
        },
        "id": "BfNTafLj1DTc",
        "outputId": "7c025a5d-d874-491d-cd40-4a67e8d16ab4"
      },
      "execution_count": null,
      "outputs": [
        {
          "output_type": "execute_result",
          "data": {
            "text/plain": [
              "             target                                               text  \\\n",
              "0         OBJECTIVE  to investigate the efficacy of @ weeks of dail...   \n",
              "1           METHODS  a total of @ patients with primary knee oa wer...   \n",
              "2           METHODS  outcome measures included pain reduction and i...   \n",
              "3           METHODS  pain was assessed using the visual analog pain...   \n",
              "4           METHODS  secondary outcome measures included the wester...   \n",
              "...             ...                                                ...   \n",
              "180035      RESULTS  for the absolute change in percent atheroma vo...   \n",
              "180036      RESULTS  for pav , a significantly greater percentage o...   \n",
              "180037      RESULTS  both strategies had acceptable side effect pro...   \n",
              "180038  CONCLUSIONS  compared with standard statin monotherapy , th...   \n",
              "180039  CONCLUSIONS  ( plaque regression with cholesterol absorptio...   \n",
              "\n",
              "        line_number  total_lines  \n",
              "0                 0           11  \n",
              "1                 1           11  \n",
              "2                 2           11  \n",
              "3                 3           11  \n",
              "4                 4           11  \n",
              "...             ...          ...  \n",
              "180035            7           11  \n",
              "180036            8           11  \n",
              "180037            9           11  \n",
              "180038           10           11  \n",
              "180039           11           11  \n",
              "\n",
              "[180040 rows x 4 columns]"
            ],
            "text/html": [
              "\n",
              "  <div id=\"df-0fff165e-7093-4cb1-94e0-3c850dc85ec4\" class=\"colab-df-container\">\n",
              "    <div>\n",
              "<style scoped>\n",
              "    .dataframe tbody tr th:only-of-type {\n",
              "        vertical-align: middle;\n",
              "    }\n",
              "\n",
              "    .dataframe tbody tr th {\n",
              "        vertical-align: top;\n",
              "    }\n",
              "\n",
              "    .dataframe thead th {\n",
              "        text-align: right;\n",
              "    }\n",
              "</style>\n",
              "<table border=\"1\" class=\"dataframe\">\n",
              "  <thead>\n",
              "    <tr style=\"text-align: right;\">\n",
              "      <th></th>\n",
              "      <th>target</th>\n",
              "      <th>text</th>\n",
              "      <th>line_number</th>\n",
              "      <th>total_lines</th>\n",
              "    </tr>\n",
              "  </thead>\n",
              "  <tbody>\n",
              "    <tr>\n",
              "      <th>0</th>\n",
              "      <td>OBJECTIVE</td>\n",
              "      <td>to investigate the efficacy of @ weeks of dail...</td>\n",
              "      <td>0</td>\n",
              "      <td>11</td>\n",
              "    </tr>\n",
              "    <tr>\n",
              "      <th>1</th>\n",
              "      <td>METHODS</td>\n",
              "      <td>a total of @ patients with primary knee oa wer...</td>\n",
              "      <td>1</td>\n",
              "      <td>11</td>\n",
              "    </tr>\n",
              "    <tr>\n",
              "      <th>2</th>\n",
              "      <td>METHODS</td>\n",
              "      <td>outcome measures included pain reduction and i...</td>\n",
              "      <td>2</td>\n",
              "      <td>11</td>\n",
              "    </tr>\n",
              "    <tr>\n",
              "      <th>3</th>\n",
              "      <td>METHODS</td>\n",
              "      <td>pain was assessed using the visual analog pain...</td>\n",
              "      <td>3</td>\n",
              "      <td>11</td>\n",
              "    </tr>\n",
              "    <tr>\n",
              "      <th>4</th>\n",
              "      <td>METHODS</td>\n",
              "      <td>secondary outcome measures included the wester...</td>\n",
              "      <td>4</td>\n",
              "      <td>11</td>\n",
              "    </tr>\n",
              "    <tr>\n",
              "      <th>...</th>\n",
              "      <td>...</td>\n",
              "      <td>...</td>\n",
              "      <td>...</td>\n",
              "      <td>...</td>\n",
              "    </tr>\n",
              "    <tr>\n",
              "      <th>180035</th>\n",
              "      <td>RESULTS</td>\n",
              "      <td>for the absolute change in percent atheroma vo...</td>\n",
              "      <td>7</td>\n",
              "      <td>11</td>\n",
              "    </tr>\n",
              "    <tr>\n",
              "      <th>180036</th>\n",
              "      <td>RESULTS</td>\n",
              "      <td>for pav , a significantly greater percentage o...</td>\n",
              "      <td>8</td>\n",
              "      <td>11</td>\n",
              "    </tr>\n",
              "    <tr>\n",
              "      <th>180037</th>\n",
              "      <td>RESULTS</td>\n",
              "      <td>both strategies had acceptable side effect pro...</td>\n",
              "      <td>9</td>\n",
              "      <td>11</td>\n",
              "    </tr>\n",
              "    <tr>\n",
              "      <th>180038</th>\n",
              "      <td>CONCLUSIONS</td>\n",
              "      <td>compared with standard statin monotherapy , th...</td>\n",
              "      <td>10</td>\n",
              "      <td>11</td>\n",
              "    </tr>\n",
              "    <tr>\n",
              "      <th>180039</th>\n",
              "      <td>CONCLUSIONS</td>\n",
              "      <td>( plaque regression with cholesterol absorptio...</td>\n",
              "      <td>11</td>\n",
              "      <td>11</td>\n",
              "    </tr>\n",
              "  </tbody>\n",
              "</table>\n",
              "<p>180040 rows × 4 columns</p>\n",
              "</div>\n",
              "    <div class=\"colab-df-buttons\">\n",
              "\n",
              "  <div class=\"colab-df-container\">\n",
              "    <button class=\"colab-df-convert\" onclick=\"convertToInteractive('df-0fff165e-7093-4cb1-94e0-3c850dc85ec4')\"\n",
              "            title=\"Convert this dataframe to an interactive table.\"\n",
              "            style=\"display:none;\">\n",
              "\n",
              "  <svg xmlns=\"http://www.w3.org/2000/svg\" height=\"24px\" viewBox=\"0 -960 960 960\">\n",
              "    <path d=\"M120-120v-720h720v720H120Zm60-500h600v-160H180v160Zm220 220h160v-160H400v160Zm0 220h160v-160H400v160ZM180-400h160v-160H180v160Zm440 0h160v-160H620v160ZM180-180h160v-160H180v160Zm440 0h160v-160H620v160Z\"/>\n",
              "  </svg>\n",
              "    </button>\n",
              "\n",
              "  <style>\n",
              "    .colab-df-container {\n",
              "      display:flex;\n",
              "      gap: 12px;\n",
              "    }\n",
              "\n",
              "    .colab-df-convert {\n",
              "      background-color: #E8F0FE;\n",
              "      border: none;\n",
              "      border-radius: 50%;\n",
              "      cursor: pointer;\n",
              "      display: none;\n",
              "      fill: #1967D2;\n",
              "      height: 32px;\n",
              "      padding: 0 0 0 0;\n",
              "      width: 32px;\n",
              "    }\n",
              "\n",
              "    .colab-df-convert:hover {\n",
              "      background-color: #E2EBFA;\n",
              "      box-shadow: 0px 1px 2px rgba(60, 64, 67, 0.3), 0px 1px 3px 1px rgba(60, 64, 67, 0.15);\n",
              "      fill: #174EA6;\n",
              "    }\n",
              "\n",
              "    .colab-df-buttons div {\n",
              "      margin-bottom: 4px;\n",
              "    }\n",
              "\n",
              "    [theme=dark] .colab-df-convert {\n",
              "      background-color: #3B4455;\n",
              "      fill: #D2E3FC;\n",
              "    }\n",
              "\n",
              "    [theme=dark] .colab-df-convert:hover {\n",
              "      background-color: #434B5C;\n",
              "      box-shadow: 0px 1px 3px 1px rgba(0, 0, 0, 0.15);\n",
              "      filter: drop-shadow(0px 1px 2px rgba(0, 0, 0, 0.3));\n",
              "      fill: #FFFFFF;\n",
              "    }\n",
              "  </style>\n",
              "\n",
              "    <script>\n",
              "      const buttonEl =\n",
              "        document.querySelector('#df-0fff165e-7093-4cb1-94e0-3c850dc85ec4 button.colab-df-convert');\n",
              "      buttonEl.style.display =\n",
              "        google.colab.kernel.accessAllowed ? 'block' : 'none';\n",
              "\n",
              "      async function convertToInteractive(key) {\n",
              "        const element = document.querySelector('#df-0fff165e-7093-4cb1-94e0-3c850dc85ec4');\n",
              "        const dataTable =\n",
              "          await google.colab.kernel.invokeFunction('convertToInteractive',\n",
              "                                                    [key], {});\n",
              "        if (!dataTable) return;\n",
              "\n",
              "        const docLinkHtml = 'Like what you see? Visit the ' +\n",
              "          '<a target=\"_blank\" href=https://colab.research.google.com/notebooks/data_table.ipynb>data table notebook</a>'\n",
              "          + ' to learn more about interactive tables.';\n",
              "        element.innerHTML = '';\n",
              "        dataTable['output_type'] = 'display_data';\n",
              "        await google.colab.output.renderOutput(dataTable, element);\n",
              "        const docLink = document.createElement('div');\n",
              "        docLink.innerHTML = docLinkHtml;\n",
              "        element.appendChild(docLink);\n",
              "      }\n",
              "    </script>\n",
              "  </div>\n",
              "\n",
              "\n",
              "<div id=\"df-2482a013-cbf6-4323-9f04-d593de825522\">\n",
              "  <button class=\"colab-df-quickchart\" onclick=\"quickchart('df-2482a013-cbf6-4323-9f04-d593de825522')\"\n",
              "            title=\"Suggest charts.\"\n",
              "            style=\"display:none;\">\n",
              "\n",
              "<svg xmlns=\"http://www.w3.org/2000/svg\" height=\"24px\"viewBox=\"0 0 24 24\"\n",
              "     width=\"24px\">\n",
              "    <g>\n",
              "        <path d=\"M19 3H5c-1.1 0-2 .9-2 2v14c0 1.1.9 2 2 2h14c1.1 0 2-.9 2-2V5c0-1.1-.9-2-2-2zM9 17H7v-7h2v7zm4 0h-2V7h2v10zm4 0h-2v-4h2v4z\"/>\n",
              "    </g>\n",
              "</svg>\n",
              "  </button>\n",
              "\n",
              "<style>\n",
              "  .colab-df-quickchart {\n",
              "      --bg-color: #E8F0FE;\n",
              "      --fill-color: #1967D2;\n",
              "      --hover-bg-color: #E2EBFA;\n",
              "      --hover-fill-color: #174EA6;\n",
              "      --disabled-fill-color: #AAA;\n",
              "      --disabled-bg-color: #DDD;\n",
              "  }\n",
              "\n",
              "  [theme=dark] .colab-df-quickchart {\n",
              "      --bg-color: #3B4455;\n",
              "      --fill-color: #D2E3FC;\n",
              "      --hover-bg-color: #434B5C;\n",
              "      --hover-fill-color: #FFFFFF;\n",
              "      --disabled-bg-color: #3B4455;\n",
              "      --disabled-fill-color: #666;\n",
              "  }\n",
              "\n",
              "  .colab-df-quickchart {\n",
              "    background-color: var(--bg-color);\n",
              "    border: none;\n",
              "    border-radius: 50%;\n",
              "    cursor: pointer;\n",
              "    display: none;\n",
              "    fill: var(--fill-color);\n",
              "    height: 32px;\n",
              "    padding: 0;\n",
              "    width: 32px;\n",
              "  }\n",
              "\n",
              "  .colab-df-quickchart:hover {\n",
              "    background-color: var(--hover-bg-color);\n",
              "    box-shadow: 0 1px 2px rgba(60, 64, 67, 0.3), 0 1px 3px 1px rgba(60, 64, 67, 0.15);\n",
              "    fill: var(--button-hover-fill-color);\n",
              "  }\n",
              "\n",
              "  .colab-df-quickchart-complete:disabled,\n",
              "  .colab-df-quickchart-complete:disabled:hover {\n",
              "    background-color: var(--disabled-bg-color);\n",
              "    fill: var(--disabled-fill-color);\n",
              "    box-shadow: none;\n",
              "  }\n",
              "\n",
              "  .colab-df-spinner {\n",
              "    border: 2px solid var(--fill-color);\n",
              "    border-color: transparent;\n",
              "    border-bottom-color: var(--fill-color);\n",
              "    animation:\n",
              "      spin 1s steps(1) infinite;\n",
              "  }\n",
              "\n",
              "  @keyframes spin {\n",
              "    0% {\n",
              "      border-color: transparent;\n",
              "      border-bottom-color: var(--fill-color);\n",
              "      border-left-color: var(--fill-color);\n",
              "    }\n",
              "    20% {\n",
              "      border-color: transparent;\n",
              "      border-left-color: var(--fill-color);\n",
              "      border-top-color: var(--fill-color);\n",
              "    }\n",
              "    30% {\n",
              "      border-color: transparent;\n",
              "      border-left-color: var(--fill-color);\n",
              "      border-top-color: var(--fill-color);\n",
              "      border-right-color: var(--fill-color);\n",
              "    }\n",
              "    40% {\n",
              "      border-color: transparent;\n",
              "      border-right-color: var(--fill-color);\n",
              "      border-top-color: var(--fill-color);\n",
              "    }\n",
              "    60% {\n",
              "      border-color: transparent;\n",
              "      border-right-color: var(--fill-color);\n",
              "    }\n",
              "    80% {\n",
              "      border-color: transparent;\n",
              "      border-right-color: var(--fill-color);\n",
              "      border-bottom-color: var(--fill-color);\n",
              "    }\n",
              "    90% {\n",
              "      border-color: transparent;\n",
              "      border-bottom-color: var(--fill-color);\n",
              "    }\n",
              "  }\n",
              "</style>\n",
              "\n",
              "  <script>\n",
              "    async function quickchart(key) {\n",
              "      const quickchartButtonEl =\n",
              "        document.querySelector('#' + key + ' button');\n",
              "      quickchartButtonEl.disabled = true;  // To prevent multiple clicks.\n",
              "      quickchartButtonEl.classList.add('colab-df-spinner');\n",
              "      try {\n",
              "        const charts = await google.colab.kernel.invokeFunction(\n",
              "            'suggestCharts', [key], {});\n",
              "      } catch (error) {\n",
              "        console.error('Error during call to suggestCharts:', error);\n",
              "      }\n",
              "      quickchartButtonEl.classList.remove('colab-df-spinner');\n",
              "      quickchartButtonEl.classList.add('colab-df-quickchart-complete');\n",
              "    }\n",
              "    (() => {\n",
              "      let quickchartButtonEl =\n",
              "        document.querySelector('#df-2482a013-cbf6-4323-9f04-d593de825522 button');\n",
              "      quickchartButtonEl.style.display =\n",
              "        google.colab.kernel.accessAllowed ? 'block' : 'none';\n",
              "    })();\n",
              "  </script>\n",
              "</div>\n",
              "    </div>\n",
              "  </div>\n"
            ]
          },
          "metadata": {},
          "execution_count": 199
        }
      ]
    },
    {
      "cell_type": "code",
      "source": [
        "## how many total lines are there?\n",
        "train_df[\"total_lines\"].value_counts()"
      ],
      "metadata": {
        "colab": {
          "base_uri": "https://localhost:8080/"
        },
        "id": "UooPj0r_09Q8",
        "outputId": "28975b53-7e9e-42cd-be58-64c5dbfb737f"
      },
      "execution_count": null,
      "outputs": [
        {
          "output_type": "execute_result",
          "data": {
            "text/plain": [
              "11    24468\n",
              "10    23639\n",
              "12    22113\n",
              "9     19400\n",
              "13    18438\n",
              "14    14610\n",
              "8     12285\n",
              "15    10768\n",
              "7      7464\n",
              "16     7429\n",
              "17     5202\n",
              "6      3353\n",
              "18     3344\n",
              "19     2480\n",
              "20     1281\n",
              "5      1146\n",
              "21      770\n",
              "22      759\n",
              "23      264\n",
              "4       215\n",
              "24      200\n",
              "25      182\n",
              "26       81\n",
              "28       58\n",
              "3        32\n",
              "30       31\n",
              "27       28\n",
              "Name: total_lines, dtype: int64"
            ]
          },
          "metadata": {},
          "execution_count": 200
        }
      ]
    },
    {
      "cell_type": "code",
      "source": [
        "## PLot hist to check frequency distribution\n",
        "train_df[\"total_lines\"].plot.hist()"
      ],
      "metadata": {
        "colab": {
          "base_uri": "https://localhost:8080/",
          "height": 453
        },
        "id": "l_4qavto09G_",
        "outputId": "c9f8cb0e-6f81-447b-ddda-7eb563923f6e"
      },
      "execution_count": null,
      "outputs": [
        {
          "output_type": "execute_result",
          "data": {
            "text/plain": [
              "<Axes: ylabel='Frequency'>"
            ]
          },
          "metadata": {},
          "execution_count": 201
        },
        {
          "output_type": "display_data",
          "data": {
            "text/plain": [
              "<Figure size 640x480 with 1 Axes>"
            ],
            "image/png": "[encoded data removed]"
          },
          "metadata": {}
        }
      ]
    },
    {
      "cell_type": "code",
      "source": [
        "##\n",
        "per = np.percentile(train_df.total_lines , 98)\n",
        "per"
      ],
      "metadata": {
        "colab": {
          "base_uri": "https://localhost:8080/"
        },
        "id": "JgiTvx0N08yt",
        "outputId": "420a6b86-7ed2-4546-a7df-62873bb6ac5c"
      },
      "execution_count": null,
      "outputs": [
        {
          "output_type": "execute_result",
          "data": {
            "text/plain": [
              "20.0"
            ]
          },
          "metadata": {},
          "execution_count": 202
        }
      ]
    },
    {
      "cell_type": "code",
      "source": [
        "train_df_total_lines_one_hot = tf.one_hot(train_df['total_lines'].to_numpy(),depth = 20)\n",
        "val_df_total_lines_one_hot = tf.one_hot(val_df['total_lines'].to_numpy(),depth = 20)\n",
        "test_df_total_lines_one_hot = tf.one_hot(test_df['total_lines'].to_numpy(),depth = 20)"
      ],
      "metadata": {
        "id": "rNTpPkux0Uci"
      },
      "execution_count": null,
      "outputs": []
    },
    {
      "cell_type": "code",
      "source": [
        "train_df_total_lines_one_hot[:5]"
      ],
      "metadata": {
        "colab": {
          "base_uri": "https://localhost:8080/"
        },
        "id": "k2Gd2mmx1i6m",
        "outputId": "568acbaa-4fff-4b6e-a8c8-558b11acd1fc"
      },
      "execution_count": null,
      "outputs": [
        {
          "output_type": "execute_result",
          "data": {
            "text/plain": [
              "<tf.Tensor: shape=(5, 20), dtype=float32, numpy=\n",
              "array([[0., 0., 0., 0., 0., 0., 0., 0., 0., 0., 0., 1., 0., 0., 0., 0.,\n",
              "        0., 0., 0., 0.],\n",
              "       [0., 0., 0., 0., 0., 0., 0., 0., 0., 0., 0., 1., 0., 0., 0., 0.,\n",
              "        0., 0., 0., 0.],\n",
              "       [0., 0., 0., 0., 0., 0., 0., 0., 0., 0., 0., 1., 0., 0., 0., 0.,\n",
              "        0., 0., 0., 0.],\n",
              "       [0., 0., 0., 0., 0., 0., 0., 0., 0., 0., 0., 1., 0., 0., 0., 0.,\n",
              "        0., 0., 0., 0.],\n",
              "       [0., 0., 0., 0., 0., 0., 0., 0., 0., 0., 0., 1., 0., 0., 0., 0.,\n",
              "        0., 0., 0., 0.]], dtype=float32)>"
            ]
          },
          "metadata": {},
          "execution_count": 204
        }
      ]
    },
    {
      "cell_type": "markdown",
      "source": [
        "### Building a tribrid embeddingg model\n",
        "1. create a token level model\n",
        "2. create a character level model\n",
        "3. create a model for line number feature\n",
        "4. create a model for total_line feature\n",
        "5. combine the outputs of model 1 and 2 usning `tf.keras.layers.Concatenate`\n",
        "6. combine the outputs of model 3,4 and 5 using `tf.keras.layers.Concatenate`\n",
        "7. create an output layer to accept thr tribried embedding an output label probabilities\n",
        "8. combine the inputs of model 1,2,3,4 and the outputs of into a tf.keras.Modell"
      ],
      "metadata": {
        "id": "AigKTtd82h2j"
      }
    },
    {
      "cell_type": "markdown",
      "source": [],
      "metadata": {
        "id": "9lho2cOj4dJw"
      }
    },
    {
      "cell_type": "code",
      "source": [
        "# 1. Token Model\n",
        "token_inputs = layers.Input(shape=[],dtype = tf.string)\n",
        "token_embeddings = embedding_layer(token_inputs)\n",
        "token_outputs = layers.Dense(128,activation='relu')(token_embeddings)\n",
        "token_model = tf.keras.Model(token_inputs,token_outputs)\n",
        "\n",
        "# 2. Setup char/model\n",
        "char_inputs = layers.Input(shape = [], dtype = tf.string , name = 'Char_input_layer')\n",
        "char_vectors = char_vectorizer(char_inputs)\n",
        "char_embedd = char_embedding_layer(char_vectors)\n",
        "char_bi_lstm = layers.Bidirectional(layers.LSTM(24))(char_embedd)\n",
        "char_model = tf.keras.Model(inputs = char_inputs,\n",
        "                            outputs = char_bi_lstm)\n",
        "\n",
        "\n",
        "#3. Creating  a model for line number model\n",
        "line_number_inputs = layers.Input(shape = (15,), dtype = tf.float32 , name =\"Line_number_input_layer\")\n",
        "x = layers.Dense(32, activation='relu' )(line_number_inputs)\n",
        "line_number_model = tf.keras.Model(inputs = line_number_inputs,\n",
        "                                   outputs = x)\n",
        "\n",
        "\n",
        "#4. Creatig a Total line model\n",
        "total_lines_inputs = layers.Input(shape = (20,), dtype = tf.float32 , name =\"total_lines_input_layer\")\n",
        "y = layers.Dense(32, activation='relu' )(total_lines_inputs)\n",
        "total_lines_model = tf.keras.Model(inputs = total_lines_inputs,\n",
        "                                   outputs = y)\n",
        "\n",
        "\n",
        "# 5. Combining the outputs of MODEL (1,2)\n",
        "combined_embeddings= tf.keras.layers.Concatenate(name = \"token_char_concatenate_layer\")([token_model.output,\n",
        "                                                                                    char_model.output])\n",
        "#6\n",
        "z = layers.Dense(256, activation = 'relu')(combined_embeddings)\n",
        "z= layers.Dropout(0.5)(z)\n",
        "\n",
        "\n",
        "\n",
        "#7. combine the outputs of model 3,4 and 5\n",
        "tribrid_embeddings = tf.keras.layers.Concatenate(name = \"tribrid_postional_embedding_layer\")([line_number_model.output,\n",
        "                                                                                              total_lines_model.output,\n",
        "                                                                                              z])\n",
        "\n",
        "\n",
        "output_layer = layers.Dense(5, activation='softmax', name='output_layer')(tribrid_embeddings)\n",
        "\n",
        "model_5 = tf.keras.Model(inputs = [line_number_model.input,\n",
        "                                   total_lines_model.input,\n",
        "                                   token_model.input,\n",
        "                                   char_model.input],\n",
        "                         outputs = output_layer)"
      ],
      "metadata": {
        "id": "j-H9Nje04AT_"
      },
      "execution_count": null,
      "outputs": []
    },
    {
      "cell_type": "code",
      "source": [
        "plot_model(model_5,show_shapes = True)"
      ],
      "metadata": {
        "colab": {
          "base_uri": "https://localhost:8080/",
          "height": 806
        },
        "id": "VWeZUOir95ar",
        "outputId": "9b9841aa-e218-4038-b8bf-70e6be9822a0"
      },
      "execution_count": null,
      "outputs": [
        {
          "output_type": "execute_result",
          "data": {
            "image/png": "[encoded data removed]",
            "text/plain": [
              "<IPython.core.display.Image object>"
            ]
          },
          "metadata": {},
          "execution_count": 221
        }
      ]
    },
    {
      "cell_type": "code",
      "source": [
        "model_5.summary()"
      ],
      "metadata": {
        "colab": {
          "base_uri": "https://localhost:8080/"
        },
        "id": "joJKzGoCARjf",
        "outputId": "f635bc54-085b-4a45-ac22-4caf3b17726e"
      },
      "execution_count": null,
      "outputs": [
        {
          "output_type": "stream",
          "name": "stdout",
          "text": [
            "Model: \"model_15\"\n",
            "__________________________________________________________________________________________________\n",
            " Layer (type)                Output Shape                 Param #   Connected to                  \n",
            "==================================================================================================\n",
            " Char_input_layer (InputLay  [(None,)]                    0         []                            \n",
            " er)                                                                                              \n",
            "                                                                                                  \n",
            " input_10 (InputLayer)       [(None,)]                    0         []                            \n",
            "                                                                                                  \n",
            " char_vectorizer (TextVecto  (None, 290)                  0         ['Char_input_layer[0][0]']    \n",
            " rization)                                                                                        \n",
            "                                                                                                  \n",
            " Universal_sentence_encoder  (None, 512)                  2567978   ['input_10[0][0]']            \n",
            "  (KerasLayer)                                            24                                      \n",
            "                                                                                                  \n",
            " char_embedding (Embedding)  (None, 290, 25)              700       ['char_vectorizer[2][0]']     \n",
            "                                                                                                  \n",
            " dense_16 (Dense)            (None, 128)                  65664     ['Universal_sentence_encoder[2\n",
            "                                                                    ][0]']                        \n",
            "                                                                                                  \n",
            " bidirectional_3 (Bidirecti  (None, 48)                   9600      ['char_embedding[2][0]']      \n",
            " onal)                                                                                            \n",
            "                                                                                                  \n",
            " token_char_concatenate_lay  (None, 176)                  0         ['dense_16[0][0]',            \n",
            " er (Concatenate)                                                    'bidirectional_3[0][0]']     \n",
            "                                                                                                  \n",
            " Line_number_input_layer (I  [(None, 15)]                 0         []                            \n",
            " nputLayer)                                                                                       \n",
            "                                                                                                  \n",
            " total_lines_input_layer (I  [(None, 20)]                 0         []                            \n",
            " nputLayer)                                                                                       \n",
            "                                                                                                  \n",
            " dense_19 (Dense)            (None, 256)                  45312     ['token_char_concatenate_layer\n",
            "                                                                    [0][0]']                      \n",
            "                                                                                                  \n",
            " dense_17 (Dense)            (None, 32)                   512       ['Line_number_input_layer[0][0\n",
            "                                                                    ]']                           \n",
            "                                                                                                  \n",
            " dense_18 (Dense)            (None, 32)                   672       ['total_lines_input_layer[0][0\n",
            "                                                                    ]']                           \n",
            "                                                                                                  \n",
            " dropout_5 (Dropout)         (None, 256)                  0         ['dense_19[0][0]']            \n",
            "                                                                                                  \n",
            " tribrid_postional_embeddin  (None, 320)                  0         ['dense_17[0][0]',            \n",
            " g_layer (Concatenate)                                               'dense_18[0][0]',            \n",
            "                                                                     'dropout_5[0][0]']           \n",
            "                                                                                                  \n",
            " output_layer (Dense)        (None, 5)                    1605      ['tribrid_postional_embedding_\n",
            "                                                                    layer[0][0]']                 \n",
            "                                                                                                  \n",
            "==================================================================================================\n",
            "Total params: 256921889 (980.08 MB)\n",
            "Trainable params: 124065 (484.63 KB)\n",
            "Non-trainable params: 256797824 (979.61 MB)\n",
            "__________________________________________________________________________________________________\n"
          ]
        }
      ]
    },
    {
      "cell_type": "code",
      "source": [
        "model_5.compile(optimizer = 'adam',\n",
        "                loss = tf.keras.losses.CategoricalCrossentropy(label_smoothing=0.2),\n",
        "                metrics = ['accuracy'])"
      ],
      "metadata": {
        "id": "EwoVZwvNAcuL"
      },
      "execution_count": null,
      "outputs": []
    },
    {
      "cell_type": "markdown",
      "source": [
        "### Creating a dataset for model _5"
      ],
      "metadata": {
        "id": "6Vbe03VOA-88"
      }
    },
    {
      "cell_type": "code",
      "source": [
        "train_pos_char_token_data = tf.data.Dataset.from_tensor_slices((train_df_line_number_one_hot, # line numbers\n",
        "                                                                train_df_total_lines_one_hot, # total lines\n",
        "                                                                train_sentences, # train tokens\n",
        "                                                                train_chars)) # train chars\n",
        "train_pos_char_token_labels = tf.data.Dataset.from_tensor_slices(train_one_hot_labels) # train labels\n",
        "train_pos_char_token_dataset = tf.data.Dataset.zip((train_pos_char_token_data, train_pos_char_token_labels)) # combine data and labels\n",
        "train_pos_char_token_dataset = train_pos_char_token_dataset.batch(32).prefetch(tf.data.AUTOTUNE) # turn into batches and prefetch appropriately\n",
        "\n",
        "# Validation dataset\n",
        "val_pos_char_token_data = tf.data.Dataset.from_tensor_slices((val_df_line_number_one_hot, # line numbers\n",
        "                                                                val_df_total_lines_one_hot, # total lines\n",
        "                                                                val_sentences, # train tokens\n",
        "                                                                val_chars)) #val char\n",
        "val_pos_char_token_labels = tf.data.Dataset.from_tensor_slices(val_one_hot_labels)\n",
        "val_pos_char_token_dataset = tf.data.Dataset.zip((val_pos_char_token_data, val_pos_char_token_labels))\n",
        "val_pos_char_token_dataset = val_pos_char_token_dataset.batch(32).prefetch(tf.data.AUTOTUNE)\n",
        "\n",
        "\n",
        "\n",
        "train_pos_char_token_dataset,val_pos_char_token_dataset"
      ],
      "metadata": {
        "colab": {
          "base_uri": "https://localhost:8080/"
        },
        "id": "RhUOqxneOpRZ",
        "outputId": "088910b6-ef82-4a30-84e4-c06a503a5d0f"
      },
      "execution_count": null,
      "outputs": [
        {
          "output_type": "execute_result",
          "data": {
            "text/plain": [
              "(<_PrefetchDataset element_spec=((TensorSpec(shape=(None, 15), dtype=tf.float32, name=None), TensorSpec(shape=(None, 20), dtype=tf.float32, name=None), TensorSpec(shape=(None,), dtype=tf.string, name=None), TensorSpec(shape=(None,), dtype=tf.string, name=None)), TensorSpec(shape=(None, 5), dtype=tf.float64, name=None))>,\n",
              " <_PrefetchDataset element_spec=((TensorSpec(shape=(None, 15), dtype=tf.float32, name=None), TensorSpec(shape=(None, 20), dtype=tf.float32, name=None), TensorSpec(shape=(None,), dtype=tf.string, name=None), TensorSpec(shape=(None,), dtype=tf.string, name=None)), TensorSpec(shape=(None, 5), dtype=tf.float64, name=None))>)"
            ]
          },
          "metadata": {},
          "execution_count": 224
        }
      ]
    },
    {
      "cell_type": "code",
      "source": [
        "# Fit the token, char and positional embedding model\n",
        "history_model_5 = model_5.fit(train_pos_char_token_dataset,\n",
        "                              steps_per_epoch=int(0.1 * len(train_pos_char_token_dataset)),\n",
        "                              epochs=3,\n",
        "                              validation_data=val_pos_char_token_dataset,\n",
        "                              validation_steps=int(0.1 * len(val_pos_char_token_dataset)))"
      ],
      "metadata": {
        "colab": {
          "base_uri": "https://localhost:8080/"
        },
        "id": "EoBbM5qoPKVu",
        "outputId": "1c9dea98-209a-42b8-d7fe-06930fb273c3"
      },
      "execution_count": null,
      "outputs": [
        {
          "output_type": "stream",
          "name": "stdout",
          "text": [
            "Epoch 1/3\n",
            "562/562 [==============================] - 59s 56ms/step - loss: 1.0987 - accuracy: 0.7227 - val_loss: 0.9866 - val_accuracy: 0.8002\n",
            "Epoch 2/3\n",
            "562/562 [==============================] - 35s 62ms/step - loss: 0.9688 - accuracy: 0.8132 - val_loss: 0.9494 - val_accuracy: 0.8265\n",
            "Epoch 3/3\n",
            "562/562 [==============================] - 25s 44ms/step - loss: 0.9498 - accuracy: 0.8202 - val_loss: 0.9377 - val_accuracy: 0.8328\n"
          ]
        }
      ]
    },
    {
      "cell_type": "code",
      "source": [
        "\n",
        "# Make predictions with token-char-positional hybrid model\n",
        "model_5_pred_probs = model_5.predict(val_pos_char_token_dataset, verbose=1)\n",
        "model_5_pred_probs\n",
        "\n",
        "\n",
        "# Turn prediction probabilities into prediction classes\n",
        "model_5_preds = tf.argmax(model_5_pred_probs, axis=1)\n",
        "model_5_preds\n",
        "\n"
      ],
      "metadata": {
        "colab": {
          "base_uri": "https://localhost:8080/"
        },
        "id": "tcSdoUqTQRMF",
        "outputId": "fe997813-f686-47cb-e938-6f48573ab7f9"
      },
      "execution_count": null,
      "outputs": [
        {
          "output_type": "stream",
          "name": "stdout",
          "text": [
            "945/945 [==============================] - 22s 23ms/step\n"
          ]
        },
        {
          "output_type": "execute_result",
          "data": {
            "text/plain": [
              "{'accuracy': 83.4072553952072,\n",
              " 'precision': 0.8328513855832164,\n",
              " 'recall': 0.834072553952072,\n",
              " 'f1': 0.833096765549392}"
            ]
          },
          "metadata": {},
          "execution_count": 227
        }
      ]
    },
    {
      "cell_type": "code",
      "source": [
        "\n",
        "# Calculate results of token-char-positional hybrid model\n",
        "model_5_results = calculate_results(y_true=val_label_encoder,\n",
        "                                    y_pred=model_5_preds)\n",
        "model_5_results"
      ],
      "metadata": {
        "colab": {
          "base_uri": "https://localhost:8080/"
        },
        "id": "_vz6Yj7TRick",
        "outputId": "de034683-924a-4525-bc93-ea50ca068961"
      },
      "execution_count": null,
      "outputs": [
        {
          "output_type": "execute_result",
          "data": {
            "text/plain": [
              "{'accuracy': 83.4072553952072,\n",
              " 'precision': 0.8328513855832164,\n",
              " 'recall': 0.834072553952072,\n",
              " 'f1': 0.833096765549392}"
            ]
          },
          "metadata": {},
          "execution_count": 228
        }
      ]
    },
    {
      "cell_type": "markdown",
      "source": [
        "## Compare model results\n",
        "Far out, we've come a long way. From a baseline model to training a model containing three different kinds of embeddings.\n",
        "\n",
        "Now it's time to compare each model's performance against each other.\n",
        "\n",
        "We'll also be able to compare our model's to the PubMed 200k RCT: a Dataset for Sequential Sentence Classification in Medical Abstracts paper.\n",
        "\n",
        "Since all of our model results are in dictionaries, let's combine them into a pandas DataFrame to visualize them.\n"
      ],
      "metadata": {
        "id": "iCTM6hOARy4s"
      }
    },
    {
      "cell_type": "code",
      "source": [
        "\n",
        "\n",
        "# Combine model results into a DataFrame\n",
        "all_model_results = pd.DataFrame({\"baseline\": model_0_results,\n",
        "                                  \"custom_token_embed_conv1d\": model_1_results,\n",
        "                                  \"pretrained_token_embed\": model_2_results,\n",
        "                                  \"custom_char_embed_conv1d\": model_3_results,\n",
        "                                  \"hybrid_char_token_embed\": model_4_results,\n",
        "                                  \"tribrid_pos_char_token_embed\": model_5_results})\n",
        "all_model_results = all_model_results.transpose()\n",
        "all_model_results"
      ],
      "metadata": {
        "colab": {
          "base_uri": "https://localhost:8080/",
          "height": 237
        },
        "id": "4zwBGduWRlMI",
        "outputId": "505fa493-ba17-4613-f4a8-861d03878373"
      },
      "execution_count": null,
      "outputs": [
        {
          "output_type": "execute_result",
          "data": {
            "text/plain": [
              "                               accuracy  precision    recall        f1\n",
              "baseline                      72.183238   0.718647  0.721832  0.698925\n",
              "custom_token_embed_conv1d     78.402621   0.780808  0.784026  0.781480\n",
              "pretrained_token_embed        67.489739   0.670337  0.674897  0.659295\n",
              "custom_char_embed_conv1d      65.576592   0.652041  0.655766  0.645177\n",
              "hybrid_char_token_embed       73.841520   0.738038  0.738415  0.735275\n",
              "tribrid_pos_char_token_embed  83.407255   0.832851  0.834073  0.833097"
            ],
            "text/html": [
              "\n",
              "  <div id=\"df-b918ad70-1156-4519-a748-95a198431089\" class=\"colab-df-container\">\n",
              "    <div>\n",
              "<style scoped>\n",
              "    .dataframe tbody tr th:only-of-type {\n",
              "        vertical-align: middle;\n",
              "    }\n",
              "\n",
              "    .dataframe tbody tr th {\n",
              "        vertical-align: top;\n",
              "    }\n",
              "\n",
              "    .dataframe thead th {\n",
              "        text-align: right;\n",
              "    }\n",
              "</style>\n",
              "<table border=\"1\" class=\"dataframe\">\n",
              "  <thead>\n",
              "    <tr style=\"text-align: right;\">\n",
              "      <th></th>\n",
              "      <th>accuracy</th>\n",
              "      <th>precision</th>\n",
              "      <th>recall</th>\n",
              "      <th>f1</th>\n",
              "    </tr>\n",
              "  </thead>\n",
              "  <tbody>\n",
              "    <tr>\n",
              "      <th>baseline</th>\n",
              "      <td>72.183238</td>\n",
              "      <td>0.718647</td>\n",
              "      <td>0.721832</td>\n",
              "      <td>0.698925</td>\n",
              "    </tr>\n",
              "    <tr>\n",
              "      <th>custom_token_embed_conv1d</th>\n",
              "      <td>78.402621</td>\n",
              "      <td>0.780808</td>\n",
              "      <td>0.784026</td>\n",
              "      <td>0.781480</td>\n",
              "    </tr>\n",
              "    <tr>\n",
              "      <th>pretrained_token_embed</th>\n",
              "      <td>67.489739</td>\n",
              "      <td>0.670337</td>\n",
              "      <td>0.674897</td>\n",
              "      <td>0.659295</td>\n",
              "    </tr>\n",
              "    <tr>\n",
              "      <th>custom_char_embed_conv1d</th>\n",
              "      <td>65.576592</td>\n",
              "      <td>0.652041</td>\n",
              "      <td>0.655766</td>\n",
              "      <td>0.645177</td>\n",
              "    </tr>\n",
              "    <tr>\n",
              "      <th>hybrid_char_token_embed</th>\n",
              "      <td>73.841520</td>\n",
              "      <td>0.738038</td>\n",
              "      <td>0.738415</td>\n",
              "      <td>0.735275</td>\n",
              "    </tr>\n",
              "    <tr>\n",
              "      <th>tribrid_pos_char_token_embed</th>\n",
              "      <td>83.407255</td>\n",
              "      <td>0.832851</td>\n",
              "      <td>0.834073</td>\n",
              "      <td>0.833097</td>\n",
              "    </tr>\n",
              "  </tbody>\n",
              "</table>\n",
              "</div>\n",
              "    <div class=\"colab-df-buttons\">\n",
              "\n",
              "  <div class=\"colab-df-container\">\n",
              "    <button class=\"colab-df-convert\" onclick=\"convertToInteractive('df-b918ad70-1156-4519-a748-95a198431089')\"\n",
              "            title=\"Convert this dataframe to an interactive table.\"\n",
              "            style=\"display:none;\">\n",
              "\n",
              "  <svg xmlns=\"http://www.w3.org/2000/svg\" height=\"24px\" viewBox=\"0 -960 960 960\">\n",
              "    <path d=\"M120-120v-720h720v720H120Zm60-500h600v-160H180v160Zm220 220h160v-160H400v160Zm0 220h160v-160H400v160ZM180-400h160v-160H180v160Zm440 0h160v-160H620v160ZM180-180h160v-160H180v160Zm440 0h160v-160H620v160Z\"/>\n",
              "  </svg>\n",
              "    </button>\n",
              "\n",
              "  <style>\n",
              "    .colab-df-container {\n",
              "      display:flex;\n",
              "      gap: 12px;\n",
              "    }\n",
              "\n",
              "    .colab-df-convert {\n",
              "      background-color: #E8F0FE;\n",
              "      border: none;\n",
              "      border-radius: 50%;\n",
              "      cursor: pointer;\n",
              "      display: none;\n",
              "      fill: #1967D2;\n",
              "      height: 32px;\n",
              "      padding: 0 0 0 0;\n",
              "      width: 32px;\n",
              "    }\n",
              "\n",
              "    .colab-df-convert:hover {\n",
              "      background-color: #E2EBFA;\n",
              "      box-shadow: 0px 1px 2px rgba(60, 64, 67, 0.3), 0px 1px 3px 1px rgba(60, 64, 67, 0.15);\n",
              "      fill: #174EA6;\n",
              "    }\n",
              "\n",
              "    .colab-df-buttons div {\n",
              "      margin-bottom: 4px;\n",
              "    }\n",
              "\n",
              "    [theme=dark] .colab-df-convert {\n",
              "      background-color: #3B4455;\n",
              "      fill: #D2E3FC;\n",
              "    }\n",
              "\n",
              "    [theme=dark] .colab-df-convert:hover {\n",
              "      background-color: #434B5C;\n",
              "      box-shadow: 0px 1px 3px 1px rgba(0, 0, 0, 0.15);\n",
              "      filter: drop-shadow(0px 1px 2px rgba(0, 0, 0, 0.3));\n",
              "      fill: #FFFFFF;\n",
              "    }\n",
              "  </style>\n",
              "\n",
              "    <script>\n",
              "      const buttonEl =\n",
              "        document.querySelector('#df-b918ad70-1156-4519-a748-95a198431089 button.colab-df-convert');\n",
              "      buttonEl.style.display =\n",
              "        google.colab.kernel.accessAllowed ? 'block' : 'none';\n",
              "\n",
              "      async function convertToInteractive(key) {\n",
              "        const element = document.querySelector('#df-b918ad70-1156-4519-a748-95a198431089');\n",
              "        const dataTable =\n",
              "          await google.colab.kernel.invokeFunction('convertToInteractive',\n",
              "                                                    [key], {});\n",
              "        if (!dataTable) return;\n",
              "\n",
              "        const docLinkHtml = 'Like what you see? Visit the ' +\n",
              "          '<a target=\"_blank\" href=https://colab.research.google.com/notebooks/data_table.ipynb>data table notebook</a>'\n",
              "          + ' to learn more about interactive tables.';\n",
              "        element.innerHTML = '';\n",
              "        dataTable['output_type'] = 'display_data';\n",
              "        await google.colab.output.renderOutput(dataTable, element);\n",
              "        const docLink = document.createElement('div');\n",
              "        docLink.innerHTML = docLinkHtml;\n",
              "        element.appendChild(docLink);\n",
              "      }\n",
              "    </script>\n",
              "  </div>\n",
              "\n",
              "\n",
              "<div id=\"df-37249a4e-7d73-488f-adc7-9961fc6dd0e5\">\n",
              "  <button class=\"colab-df-quickchart\" onclick=\"quickchart('df-37249a4e-7d73-488f-adc7-9961fc6dd0e5')\"\n",
              "            title=\"Suggest charts.\"\n",
              "            style=\"display:none;\">\n",
              "\n",
              "<svg xmlns=\"http://www.w3.org/2000/svg\" height=\"24px\"viewBox=\"0 0 24 24\"\n",
              "     width=\"24px\">\n",
              "    <g>\n",
              "        <path d=\"M19 3H5c-1.1 0-2 .9-2 2v14c0 1.1.9 2 2 2h14c1.1 0 2-.9 2-2V5c0-1.1-.9-2-2-2zM9 17H7v-7h2v7zm4 0h-2V7h2v10zm4 0h-2v-4h2v4z\"/>\n",
              "    </g>\n",
              "</svg>\n",
              "  </button>\n",
              "\n",
              "<style>\n",
              "  .colab-df-quickchart {\n",
              "      --bg-color: #E8F0FE;\n",
              "      --fill-color: #1967D2;\n",
              "      --hover-bg-color: #E2EBFA;\n",
              "      --hover-fill-color: #174EA6;\n",
              "      --disabled-fill-color: #AAA;\n",
              "      --disabled-bg-color: #DDD;\n",
              "  }\n",
              "\n",
              "  [theme=dark] .colab-df-quickchart {\n",
              "      --bg-color: #3B4455;\n",
              "      --fill-color: #D2E3FC;\n",
              "      --hover-bg-color: #434B5C;\n",
              "      --hover-fill-color: #FFFFFF;\n",
              "      --disabled-bg-color: #3B4455;\n",
              "      --disabled-fill-color: #666;\n",
              "  }\n",
              "\n",
              "  .colab-df-quickchart {\n",
              "    background-color: var(--bg-color);\n",
              "    border: none;\n",
              "    border-radius: 50%;\n",
              "    cursor: pointer;\n",
              "    display: none;\n",
              "    fill: var(--fill-color);\n",
              "    height: 32px;\n",
              "    padding: 0;\n",
              "    width: 32px;\n",
              "  }\n",
              "\n",
              "  .colab-df-quickchart:hover {\n",
              "    background-color: var(--hover-bg-color);\n",
              "    box-shadow: 0 1px 2px rgba(60, 64, 67, 0.3), 0 1px 3px 1px rgba(60, 64, 67, 0.15);\n",
              "    fill: var(--button-hover-fill-color);\n",
              "  }\n",
              "\n",
              "  .colab-df-quickchart-complete:disabled,\n",
              "  .colab-df-quickchart-complete:disabled:hover {\n",
              "    background-color: var(--disabled-bg-color);\n",
              "    fill: var(--disabled-fill-color);\n",
              "    box-shadow: none;\n",
              "  }\n",
              "\n",
              "  .colab-df-spinner {\n",
              "    border: 2px solid var(--fill-color);\n",
              "    border-color: transparent;\n",
              "    border-bottom-color: var(--fill-color);\n",
              "    animation:\n",
              "      spin 1s steps(1) infinite;\n",
              "  }\n",
              "\n",
              "  @keyframes spin {\n",
              "    0% {\n",
              "      border-color: transparent;\n",
              "      border-bottom-color: var(--fill-color);\n",
              "      border-left-color: var(--fill-color);\n",
              "    }\n",
              "    20% {\n",
              "      border-color: transparent;\n",
              "      border-left-color: var(--fill-color);\n",
              "      border-top-color: var(--fill-color);\n",
              "    }\n",
              "    30% {\n",
              "      border-color: transparent;\n",
              "      border-left-color: var(--fill-color);\n",
              "      border-top-color: var(--fill-color);\n",
              "      border-right-color: var(--fill-color);\n",
              "    }\n",
              "    40% {\n",
              "      border-color: transparent;\n",
              "      border-right-color: var(--fill-color);\n",
              "      border-top-color: var(--fill-color);\n",
              "    }\n",
              "    60% {\n",
              "      border-color: transparent;\n",
              "      border-right-color: var(--fill-color);\n",
              "    }\n",
              "    80% {\n",
              "      border-color: transparent;\n",
              "      border-right-color: var(--fill-color);\n",
              "      border-bottom-color: var(--fill-color);\n",
              "    }\n",
              "    90% {\n",
              "      border-color: transparent;\n",
              "      border-bottom-color: var(--fill-color);\n",
              "    }\n",
              "  }\n",
              "</style>\n",
              "\n",
              "  <script>\n",
              "    async function quickchart(key) {\n",
              "      const quickchartButtonEl =\n",
              "        document.querySelector('#' + key + ' button');\n",
              "      quickchartButtonEl.disabled = true;  // To prevent multiple clicks.\n",
              "      quickchartButtonEl.classList.add('colab-df-spinner');\n",
              "      try {\n",
              "        const charts = await google.colab.kernel.invokeFunction(\n",
              "            'suggestCharts', [key], {});\n",
              "      } catch (error) {\n",
              "        console.error('Error during call to suggestCharts:', error);\n",
              "      }\n",
              "      quickchartButtonEl.classList.remove('colab-df-spinner');\n",
              "      quickchartButtonEl.classList.add('colab-df-quickchart-complete');\n",
              "    }\n",
              "    (() => {\n",
              "      let quickchartButtonEl =\n",
              "        document.querySelector('#df-37249a4e-7d73-488f-adc7-9961fc6dd0e5 button');\n",
              "      quickchartButtonEl.style.display =\n",
              "        google.colab.kernel.accessAllowed ? 'block' : 'none';\n",
              "    })();\n",
              "  </script>\n",
              "</div>\n",
              "    </div>\n",
              "  </div>\n"
            ]
          },
          "metadata": {},
          "execution_count": 230
        }
      ]
    },
    {
      "cell_type": "code",
      "source": [
        "\n",
        "\n",
        "# Reduce the accuracy to same scale as other metrics\n",
        "all_model_results[\"accuracy\"] = all_model_results[\"accuracy\"]/100"
      ],
      "metadata": {
        "id": "eI81QDX9Sfdd"
      },
      "execution_count": null,
      "outputs": []
    },
    {
      "cell_type": "code",
      "source": [
        "# Plot and compare all of the model results\n",
        "all_model_results.plot(kind=\"bar\", figsize=(10, 7)).legend(bbox_to_anchor=(1.0, 1.0));"
      ],
      "metadata": {
        "colab": {
          "base_uri": "https://localhost:8080/",
          "height": 823
        },
        "id": "vDmcT4dNSgNK",
        "outputId": "14738567-2222-423f-cbf4-6722332ae93c"
      },
      "execution_count": null,
      "outputs": [
        {
          "output_type": "display_data",
          "data": {
            "text/plain": [
              "<Figure size 1000x700 with 1 Axes>"
            ],
            "image/png": "[encoded data removed]"
          },
          "metadata": {}
        }
      ]
    },
    {
      "cell_type": "code",
      "source": [
        "\n",
        "# Sort model results by f1-score\n",
        "all_model_results.sort_values(\"f1\", ascending=False)[\"f1\"].plot(kind=\"bar\", figsize=(10, 7));"
      ],
      "metadata": {
        "colab": {
          "base_uri": "https://localhost:8080/",
          "height": 823
        },
        "id": "VQhh_SKrSj4E",
        "outputId": "a8b22f41-9de8-407b-894a-1c28260a6bbf"
      },
      "execution_count": null,
      "outputs": [
        {
          "output_type": "display_data",
          "data": {
            "text/plain": [
              "<Figure size 1000x700 with 1 Axes>"
            ],
            "image/png": "[encoded data removed]"
          },
          "metadata": {}
        }
      ]
    },
    {
      "cell_type": "markdown",
      "source": [
        "## Save and load best performing model\n",
        "Since we've been through a fair few experiments, it's a good idea to save our best performing model so we can reuse it without having to retrain it.\n",
        "\n",
        "We can save our best performing model by calling the save() method on it.\n",
        "\n",
        "\n"
      ],
      "metadata": {
        "id": "eMgfWAxoSopC"
      }
    },
    {
      "cell_type": "code",
      "source": [
        "# Save best performing model to SavedModel format (default)\n",
        "model_5.save(\"/content/drive/MyDrive/skimlit_tribrid_model\") # model will be saved to path specified by string"
      ],
      "metadata": {
        "id": "VBKUVMhvSxAe"
      },
      "execution_count": null,
      "outputs": []
    },
    {
      "cell_type": "code",
      "source": [
        "!wget = https://drive.google.com/file/d/1XjXbt9sP0XcBXhPZV_6anVAycqhSVVsK/view?usp=drive_link"
      ],
      "metadata": {
        "colab": {
          "base_uri": "https://localhost:8080/"
        },
        "id": "0WVlOcDUSy1S",
        "outputId": "a66b2b8b-b496-42cf-9c80-3b7c555a9085"
      },
      "execution_count": null,
      "outputs": [
        {
          "output_type": "stream",
          "name": "stdout",
          "text": [
            "--2023-09-20 11:19:03--  http://=/\n",
            "Resolving = (=)... failed: Name or service not known.\n",
            "wget: unable to resolve host address ‘=’\n",
            "--2023-09-20 11:19:03--  https://drive.google.com/file/d/1XjXbt9sP0XcBXhPZV_6anVAycqhSVVsK/view?usp=drive_link\n",
            "Resolving drive.google.com (drive.google.com)... 108.177.120.139, 108.177.120.102, 108.177.120.101, ...\n",
            "Connecting to drive.google.com (drive.google.com)|108.177.120.139|:443... connected.\n",
            "HTTP request sent, awaiting response... 302 Moved Temporarily\n",
            "Location: https://accounts.google.com/ServiceLogin?service=wise&passive=1209600&osid=1&continue=https://drive.google.com/file/d/1XjXbt9sP0XcBXhPZV_6anVAycqhSVVsK/view?usp%3Ddrive_link&followup=https://drive.google.com/file/d/1XjXbt9sP0XcBXhPZV_6anVAycqhSVVsK/view?usp%3Ddrive_link [following]\n",
            "--2023-09-20 11:19:03--  https://accounts.google.com/ServiceLogin?service=wise&passive=1209600&osid=1&continue=https://drive.google.com/file/d/1XjXbt9sP0XcBXhPZV_6anVAycqhSVVsK/view?usp%3Ddrive_link&followup=https://drive.google.com/file/d/1XjXbt9sP0XcBXhPZV_6anVAycqhSVVsK/view?usp%3Ddrive_link\n",
            "Resolving accounts.google.com (accounts.google.com)... 142.250.1.84, 2607:f8b0:4001:c18::54\n",
            "Connecting to accounts.google.com (accounts.google.com)|142.250.1.84|:443... connected.\n",
            "HTTP request sent, awaiting response... 302 Found\n",
            "Location: https://accounts.google.com/InteractiveLogin?continue=https://drive.google.com/file/d/1XjXbt9sP0XcBXhPZV_6anVAycqhSVVsK/view?usp%3Ddrive_link&followup=https://drive.google.com/file/d/1XjXbt9sP0XcBXhPZV_6anVAycqhSVVsK/view?usp%3Ddrive_link&osid=1&passive=1209600&service=wise&ifkv=AYZoVhf1zRKuHs4WgpWzK7lCvnjqNOMFuFEgXm2fM7pMuOu9aIN01ziUyBbTYQR2BvjujZu91sS0hg [following]\n",
            "--2023-09-20 11:19:03--  https://accounts.google.com/InteractiveLogin?continue=https://drive.google.com/file/d/1XjXbt9sP0XcBXhPZV_6anVAycqhSVVsK/view?usp%3Ddrive_link&followup=https://drive.google.com/file/d/1XjXbt9sP0XcBXhPZV_6anVAycqhSVVsK/view?usp%3Ddrive_link&osid=1&passive=1209600&service=wise&ifkv=AYZoVhf1zRKuHs4WgpWzK7lCvnjqNOMFuFEgXm2fM7pMuOu9aIN01ziUyBbTYQR2BvjujZu91sS0hg\n",
            "Reusing existing connection to accounts.google.com:443.\n",
            "HTTP request sent, awaiting response... 302 Moved Temporarily\n",
            "Location: https://accounts.google.com/v3/signin/identifier?continue=https%3A%2F%2Fdrive.google.com%2Ffile%2Fd%2F1XjXbt9sP0XcBXhPZV_6anVAycqhSVVsK%2Fview%3Fusp%3Ddrive_link&followup=https%3A%2F%2Fdrive.google.com%2Ffile%2Fd%2F1XjXbt9sP0XcBXhPZV_6anVAycqhSVVsK%2Fview%3Fusp%3Ddrive_link&ifkv=AYZoVhf6TLIFKUMz4dy7cMBx1AuAti5o-HCTAUdcHo7RquJt9vNJGNildjbfSCfJUPACStb0-kFa3w&osid=1&passive=1209600&service=wise&flowName=WebLiteSignIn&flowEntry=ServiceLogin&dsh=S1426378106%3A1695208743821890 [following]\n",
            "--2023-09-20 11:19:03--  https://accounts.google.com/v3/signin/identifier?continue=https%3A%2F%2Fdrive.google.com%2Ffile%2Fd%2F1XjXbt9sP0XcBXhPZV_6anVAycqhSVVsK%2Fview%3Fusp%3Ddrive_link&followup=https%3A%2F%2Fdrive.google.com%2Ffile%2Fd%2F1XjXbt9sP0XcBXhPZV_6anVAycqhSVVsK%2Fview%3Fusp%3Ddrive_link&ifkv=AYZoVhf6TLIFKUMz4dy7cMBx1AuAti5o-HCTAUdcHo7RquJt9vNJGNildjbfSCfJUPACStb0-kFa3w&osid=1&passive=1209600&service=wise&flowName=WebLiteSignIn&flowEntry=ServiceLogin&dsh=S1426378106%3A1695208743821890\n",
            "Reusing existing connection to accounts.google.com:443.\n",
            "HTTP request sent, awaiting response... 200 OK\n",
            "Length: unspecified [text/html]\n",
            "Saving to: ‘view?usp=drive_link’\n",
            "\n",
            "view?usp=drive_link     [ <=>                ] 573.51K  --.-KB/s    in 0.06s   \n",
            "\n",
            "2023-09-20 11:19:03 (9.06 MB/s) - ‘view?usp=drive_link’ saved [587275]\n",
            "\n",
            "FINISHED --2023-09-20 11:19:03--\n",
            "Total wall clock time: 0.5s\n",
            "Downloaded: 1 files, 574K in 0.06s (9.06 MB/s)\n"
          ]
        }
      ]
    },
    {
      "cell_type": "code",
      "source": [
        "new_model = tf.keras.models.load_model('/content/drive/MyDrive/skimlit_tribrid_model')"
      ],
      "metadata": {
        "id": "jgi3OHzRUIzJ"
      },
      "execution_count": null,
      "outputs": []
    },
    {
      "cell_type": "code",
      "source": [
        "new_model.evaluate(val_pos_char_token_dataset)"
      ],
      "metadata": {
        "colab": {
          "base_uri": "https://localhost:8080/"
        },
        "id": "wSLeHPyiWb_3",
        "outputId": "696c55a4-d779-41b9-bf34-596bb4134ce8"
      },
      "execution_count": null,
      "outputs": [
        {
          "output_type": "stream",
          "name": "stdout",
          "text": [
            "945/945 [==============================] - 44s 39ms/step - loss: 0.9358 - accuracy: 0.8341\n"
          ]
        },
        {
          "output_type": "execute_result",
          "data": {
            "text/plain": [
              "[0.9357655048370361, 0.8340725302696228]"
            ]
          },
          "metadata": {},
          "execution_count": 251
        }
      ]
    },
    {
      "cell_type": "code",
      "source": [
        "new_model_preds = new_model.predict(val_pos_char_token_dataset)\n",
        "new_model_preds = tf.argmax(new_model_preds, axis = 1)"
      ],
      "metadata": {
        "colab": {
          "base_uri": "https://localhost:8080/"
        },
        "id": "X40VBd7AWmTW",
        "outputId": "8b53f0e4-fc54-4e3c-fef7-81699c4a0b03"
      },
      "execution_count": null,
      "outputs": [
        {
          "output_type": "stream",
          "name": "stdout",
          "text": [
            "945/945 [==============================] - 22s 24ms/step\n"
          ]
        }
      ]
    },
    {
      "cell_type": "code",
      "source": [
        "new_results = calculate_results(y_true=val_label_encoder,\n",
        "                                    y_pred=new_model_preds)\n",
        "new_results == model_5_results"
      ],
      "metadata": {
        "colab": {
          "base_uri": "https://localhost:8080/"
        },
        "id": "MPkFEHXZW3l3",
        "outputId": "43fcad26-6345-457c-95ad-219308c5a331"
      },
      "execution_count": null,
      "outputs": [
        {
          "output_type": "execute_result",
          "data": {
            "text/plain": [
              "True"
            ]
          },
          "metadata": {},
          "execution_count": 256
        }
      ]
    },
    {
      "cell_type": "code",
      "source": [
        "plot_model(new_model)"
      ],
      "metadata": {
        "colab": {
          "base_uri": "https://localhost:8080/",
          "height": 856
        },
        "id": "svvDMomZW-43",
        "outputId": "e29e91d1-705e-4cdb-ff57-6afe461b0a3b"
      },
      "execution_count": null,
      "outputs": [
        {
          "output_type": "execute_result",
          "data": {
            "image/png": "[encoded data removed]",
            "text/plain": [
              "<IPython.core.display.Image object>"
            ]
          },
          "metadata": {},
          "execution_count": 257
        }
      ]
    },
    {
      "cell_type": "code",
      "source": [],
      "metadata": {
        "id": "uNQcvcTyXzMk"
      },
      "execution_count": null,
      "outputs": []
    }
  ]
}